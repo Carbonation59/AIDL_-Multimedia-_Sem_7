{
  "nbformat": 4,
  "nbformat_minor": 0,
  "metadata": {
    "colab": {
      "provenance": []
    },
    "kernelspec": {
      "name": "python3",
      "display_name": "Python 3"
    },
    "language_info": {
      "name": "python"
    }
  },
  "cells": [
    {
      "cell_type": "markdown",
      "source": [
        "#1. Выбрать наборы данных и обосновать их выбор"
      ],
      "metadata": {
        "id": "Z9RtEXgwUzGz"
      }
    },
    {
      "cell_type": "markdown",
      "source": [
        "Сам датасет: https://www.kaggle.com/datasets/CooperUnion/cardataset. В нём изложены данные об автомобилях, а именно: модель, год выпуска, двигатель и другие характеристики автомобиля.\n",
        "\n",
        "Задача, решаемая регрессией: предсказание стоимости автомобиля по его характеристикам (оценка стоимости автомобиля полезна и применима в реальной жизни).\n",
        "\n",
        "Задача, решаемая классификацией: определение года выпуска автомобиля (в разные времена выпускались разные автомобили, что может сказать нам о перспективных направлениях каждого времени)."
      ],
      "metadata": {
        "id": "HTS2kbJrVQKk"
      }
    },
    {
      "cell_type": "markdown",
      "source": [
        "#2. Выбрать метрики качества и обосновать их выбор"
      ],
      "metadata": {
        "id": "kqA7AdyTWj75"
      }
    },
    {
      "cell_type": "markdown",
      "source": [
        "Подключаем необходимые библиотеки"
      ],
      "metadata": {
        "id": "k-96r07hW15x"
      }
    },
    {
      "cell_type": "code",
      "execution_count": null,
      "metadata": {
        "id": "hspGdt9RUsao"
      },
      "outputs": [],
      "source": [
        "import pandas as pd\n",
        "import numpy as np\n",
        "from matplotlib import pyplot as plt"
      ]
    },
    {
      "cell_type": "markdown",
      "source": [
        "Сам датасет"
      ],
      "metadata": {
        "id": "ki-QVm-d6D0o"
      }
    },
    {
      "cell_type": "code",
      "source": [
        "data = pd.read_csv('data.csv')\n",
        "data"
      ],
      "metadata": {
        "colab": {
          "base_uri": "https://localhost:8080/",
          "height": 788
        },
        "id": "bH2alKjkW5F5",
        "outputId": "5b052596-ebf3-4152-f7ff-f17c931899fb"
      },
      "execution_count": null,
      "outputs": [
        {
          "output_type": "execute_result",
          "data": {
            "text/plain": [
              "          Make       Model  Year                Engine Fuel Type  Engine HP  \\\n",
              "0          BMW  1 Series M  2011     premium unleaded (required)      335.0   \n",
              "1          BMW    1 Series  2011     premium unleaded (required)      300.0   \n",
              "2          BMW    1 Series  2011     premium unleaded (required)      300.0   \n",
              "3          BMW    1 Series  2011     premium unleaded (required)      230.0   \n",
              "4          BMW    1 Series  2011     premium unleaded (required)      230.0   \n",
              "...        ...         ...   ...                             ...        ...   \n",
              "11909    Acura         ZDX  2012     premium unleaded (required)      300.0   \n",
              "11910    Acura         ZDX  2012     premium unleaded (required)      300.0   \n",
              "11911    Acura         ZDX  2012     premium unleaded (required)      300.0   \n",
              "11912    Acura         ZDX  2013  premium unleaded (recommended)      300.0   \n",
              "11913  Lincoln      Zephyr  2006                regular unleaded      221.0   \n",
              "\n",
              "       Engine Cylinders Transmission Type      Driven_Wheels  Number of Doors  \\\n",
              "0                   6.0            MANUAL   rear wheel drive              2.0   \n",
              "1                   6.0            MANUAL   rear wheel drive              2.0   \n",
              "2                   6.0            MANUAL   rear wheel drive              2.0   \n",
              "3                   6.0            MANUAL   rear wheel drive              2.0   \n",
              "4                   6.0            MANUAL   rear wheel drive              2.0   \n",
              "...                 ...               ...                ...              ...   \n",
              "11909               6.0         AUTOMATIC    all wheel drive              4.0   \n",
              "11910               6.0         AUTOMATIC    all wheel drive              4.0   \n",
              "11911               6.0         AUTOMATIC    all wheel drive              4.0   \n",
              "11912               6.0         AUTOMATIC    all wheel drive              4.0   \n",
              "11913               6.0         AUTOMATIC  front wheel drive              4.0   \n",
              "\n",
              "                             Market Category Vehicle Size  Vehicle Style  \\\n",
              "0      Factory Tuner,Luxury,High-Performance      Compact          Coupe   \n",
              "1                         Luxury,Performance      Compact    Convertible   \n",
              "2                    Luxury,High-Performance      Compact          Coupe   \n",
              "3                         Luxury,Performance      Compact          Coupe   \n",
              "4                                     Luxury      Compact    Convertible   \n",
              "...                                      ...          ...            ...   \n",
              "11909             Crossover,Hatchback,Luxury      Midsize  4dr Hatchback   \n",
              "11910             Crossover,Hatchback,Luxury      Midsize  4dr Hatchback   \n",
              "11911             Crossover,Hatchback,Luxury      Midsize  4dr Hatchback   \n",
              "11912             Crossover,Hatchback,Luxury      Midsize  4dr Hatchback   \n",
              "11913                                 Luxury      Midsize          Sedan   \n",
              "\n",
              "       highway MPG  city mpg  Popularity   MSRP  \n",
              "0               26        19        3916  46135  \n",
              "1               28        19        3916  40650  \n",
              "2               28        20        3916  36350  \n",
              "3               28        18        3916  29450  \n",
              "4               28        18        3916  34500  \n",
              "...            ...       ...         ...    ...  \n",
              "11909           23        16         204  46120  \n",
              "11910           23        16         204  56670  \n",
              "11911           23        16         204  50620  \n",
              "11912           23        16         204  50920  \n",
              "11913           26        17          61  28995  \n",
              "\n",
              "[11914 rows x 16 columns]"
            ],
            "text/html": [
              "\n",
              "  <div id=\"df-cb864ca4-c75b-467f-9f33-070051be78aa\" class=\"colab-df-container\">\n",
              "    <div>\n",
              "<style scoped>\n",
              "    .dataframe tbody tr th:only-of-type {\n",
              "        vertical-align: middle;\n",
              "    }\n",
              "\n",
              "    .dataframe tbody tr th {\n",
              "        vertical-align: top;\n",
              "    }\n",
              "\n",
              "    .dataframe thead th {\n",
              "        text-align: right;\n",
              "    }\n",
              "</style>\n",
              "<table border=\"1\" class=\"dataframe\">\n",
              "  <thead>\n",
              "    <tr style=\"text-align: right;\">\n",
              "      <th></th>\n",
              "      <th>Make</th>\n",
              "      <th>Model</th>\n",
              "      <th>Year</th>\n",
              "      <th>Engine Fuel Type</th>\n",
              "      <th>Engine HP</th>\n",
              "      <th>Engine Cylinders</th>\n",
              "      <th>Transmission Type</th>\n",
              "      <th>Driven_Wheels</th>\n",
              "      <th>Number of Doors</th>\n",
              "      <th>Market Category</th>\n",
              "      <th>Vehicle Size</th>\n",
              "      <th>Vehicle Style</th>\n",
              "      <th>highway MPG</th>\n",
              "      <th>city mpg</th>\n",
              "      <th>Popularity</th>\n",
              "      <th>MSRP</th>\n",
              "    </tr>\n",
              "  </thead>\n",
              "  <tbody>\n",
              "    <tr>\n",
              "      <th>0</th>\n",
              "      <td>BMW</td>\n",
              "      <td>1 Series M</td>\n",
              "      <td>2011</td>\n",
              "      <td>premium unleaded (required)</td>\n",
              "      <td>335.0</td>\n",
              "      <td>6.0</td>\n",
              "      <td>MANUAL</td>\n",
              "      <td>rear wheel drive</td>\n",
              "      <td>2.0</td>\n",
              "      <td>Factory Tuner,Luxury,High-Performance</td>\n",
              "      <td>Compact</td>\n",
              "      <td>Coupe</td>\n",
              "      <td>26</td>\n",
              "      <td>19</td>\n",
              "      <td>3916</td>\n",
              "      <td>46135</td>\n",
              "    </tr>\n",
              "    <tr>\n",
              "      <th>1</th>\n",
              "      <td>BMW</td>\n",
              "      <td>1 Series</td>\n",
              "      <td>2011</td>\n",
              "      <td>premium unleaded (required)</td>\n",
              "      <td>300.0</td>\n",
              "      <td>6.0</td>\n",
              "      <td>MANUAL</td>\n",
              "      <td>rear wheel drive</td>\n",
              "      <td>2.0</td>\n",
              "      <td>Luxury,Performance</td>\n",
              "      <td>Compact</td>\n",
              "      <td>Convertible</td>\n",
              "      <td>28</td>\n",
              "      <td>19</td>\n",
              "      <td>3916</td>\n",
              "      <td>40650</td>\n",
              "    </tr>\n",
              "    <tr>\n",
              "      <th>2</th>\n",
              "      <td>BMW</td>\n",
              "      <td>1 Series</td>\n",
              "      <td>2011</td>\n",
              "      <td>premium unleaded (required)</td>\n",
              "      <td>300.0</td>\n",
              "      <td>6.0</td>\n",
              "      <td>MANUAL</td>\n",
              "      <td>rear wheel drive</td>\n",
              "      <td>2.0</td>\n",
              "      <td>Luxury,High-Performance</td>\n",
              "      <td>Compact</td>\n",
              "      <td>Coupe</td>\n",
              "      <td>28</td>\n",
              "      <td>20</td>\n",
              "      <td>3916</td>\n",
              "      <td>36350</td>\n",
              "    </tr>\n",
              "    <tr>\n",
              "      <th>3</th>\n",
              "      <td>BMW</td>\n",
              "      <td>1 Series</td>\n",
              "      <td>2011</td>\n",
              "      <td>premium unleaded (required)</td>\n",
              "      <td>230.0</td>\n",
              "      <td>6.0</td>\n",
              "      <td>MANUAL</td>\n",
              "      <td>rear wheel drive</td>\n",
              "      <td>2.0</td>\n",
              "      <td>Luxury,Performance</td>\n",
              "      <td>Compact</td>\n",
              "      <td>Coupe</td>\n",
              "      <td>28</td>\n",
              "      <td>18</td>\n",
              "      <td>3916</td>\n",
              "      <td>29450</td>\n",
              "    </tr>\n",
              "    <tr>\n",
              "      <th>4</th>\n",
              "      <td>BMW</td>\n",
              "      <td>1 Series</td>\n",
              "      <td>2011</td>\n",
              "      <td>premium unleaded (required)</td>\n",
              "      <td>230.0</td>\n",
              "      <td>6.0</td>\n",
              "      <td>MANUAL</td>\n",
              "      <td>rear wheel drive</td>\n",
              "      <td>2.0</td>\n",
              "      <td>Luxury</td>\n",
              "      <td>Compact</td>\n",
              "      <td>Convertible</td>\n",
              "      <td>28</td>\n",
              "      <td>18</td>\n",
              "      <td>3916</td>\n",
              "      <td>34500</td>\n",
              "    </tr>\n",
              "    <tr>\n",
              "      <th>...</th>\n",
              "      <td>...</td>\n",
              "      <td>...</td>\n",
              "      <td>...</td>\n",
              "      <td>...</td>\n",
              "      <td>...</td>\n",
              "      <td>...</td>\n",
              "      <td>...</td>\n",
              "      <td>...</td>\n",
              "      <td>...</td>\n",
              "      <td>...</td>\n",
              "      <td>...</td>\n",
              "      <td>...</td>\n",
              "      <td>...</td>\n",
              "      <td>...</td>\n",
              "      <td>...</td>\n",
              "      <td>...</td>\n",
              "    </tr>\n",
              "    <tr>\n",
              "      <th>11909</th>\n",
              "      <td>Acura</td>\n",
              "      <td>ZDX</td>\n",
              "      <td>2012</td>\n",
              "      <td>premium unleaded (required)</td>\n",
              "      <td>300.0</td>\n",
              "      <td>6.0</td>\n",
              "      <td>AUTOMATIC</td>\n",
              "      <td>all wheel drive</td>\n",
              "      <td>4.0</td>\n",
              "      <td>Crossover,Hatchback,Luxury</td>\n",
              "      <td>Midsize</td>\n",
              "      <td>4dr Hatchback</td>\n",
              "      <td>23</td>\n",
              "      <td>16</td>\n",
              "      <td>204</td>\n",
              "      <td>46120</td>\n",
              "    </tr>\n",
              "    <tr>\n",
              "      <th>11910</th>\n",
              "      <td>Acura</td>\n",
              "      <td>ZDX</td>\n",
              "      <td>2012</td>\n",
              "      <td>premium unleaded (required)</td>\n",
              "      <td>300.0</td>\n",
              "      <td>6.0</td>\n",
              "      <td>AUTOMATIC</td>\n",
              "      <td>all wheel drive</td>\n",
              "      <td>4.0</td>\n",
              "      <td>Crossover,Hatchback,Luxury</td>\n",
              "      <td>Midsize</td>\n",
              "      <td>4dr Hatchback</td>\n",
              "      <td>23</td>\n",
              "      <td>16</td>\n",
              "      <td>204</td>\n",
              "      <td>56670</td>\n",
              "    </tr>\n",
              "    <tr>\n",
              "      <th>11911</th>\n",
              "      <td>Acura</td>\n",
              "      <td>ZDX</td>\n",
              "      <td>2012</td>\n",
              "      <td>premium unleaded (required)</td>\n",
              "      <td>300.0</td>\n",
              "      <td>6.0</td>\n",
              "      <td>AUTOMATIC</td>\n",
              "      <td>all wheel drive</td>\n",
              "      <td>4.0</td>\n",
              "      <td>Crossover,Hatchback,Luxury</td>\n",
              "      <td>Midsize</td>\n",
              "      <td>4dr Hatchback</td>\n",
              "      <td>23</td>\n",
              "      <td>16</td>\n",
              "      <td>204</td>\n",
              "      <td>50620</td>\n",
              "    </tr>\n",
              "    <tr>\n",
              "      <th>11912</th>\n",
              "      <td>Acura</td>\n",
              "      <td>ZDX</td>\n",
              "      <td>2013</td>\n",
              "      <td>premium unleaded (recommended)</td>\n",
              "      <td>300.0</td>\n",
              "      <td>6.0</td>\n",
              "      <td>AUTOMATIC</td>\n",
              "      <td>all wheel drive</td>\n",
              "      <td>4.0</td>\n",
              "      <td>Crossover,Hatchback,Luxury</td>\n",
              "      <td>Midsize</td>\n",
              "      <td>4dr Hatchback</td>\n",
              "      <td>23</td>\n",
              "      <td>16</td>\n",
              "      <td>204</td>\n",
              "      <td>50920</td>\n",
              "    </tr>\n",
              "    <tr>\n",
              "      <th>11913</th>\n",
              "      <td>Lincoln</td>\n",
              "      <td>Zephyr</td>\n",
              "      <td>2006</td>\n",
              "      <td>regular unleaded</td>\n",
              "      <td>221.0</td>\n",
              "      <td>6.0</td>\n",
              "      <td>AUTOMATIC</td>\n",
              "      <td>front wheel drive</td>\n",
              "      <td>4.0</td>\n",
              "      <td>Luxury</td>\n",
              "      <td>Midsize</td>\n",
              "      <td>Sedan</td>\n",
              "      <td>26</td>\n",
              "      <td>17</td>\n",
              "      <td>61</td>\n",
              "      <td>28995</td>\n",
              "    </tr>\n",
              "  </tbody>\n",
              "</table>\n",
              "<p>11914 rows × 16 columns</p>\n",
              "</div>\n",
              "    <div class=\"colab-df-buttons\">\n",
              "\n",
              "  <div class=\"colab-df-container\">\n",
              "    <button class=\"colab-df-convert\" onclick=\"convertToInteractive('df-cb864ca4-c75b-467f-9f33-070051be78aa')\"\n",
              "            title=\"Convert this dataframe to an interactive table.\"\n",
              "            style=\"display:none;\">\n",
              "\n",
              "  <svg xmlns=\"http://www.w3.org/2000/svg\" height=\"24px\" viewBox=\"0 -960 960 960\">\n",
              "    <path d=\"M120-120v-720h720v720H120Zm60-500h600v-160H180v160Zm220 220h160v-160H400v160Zm0 220h160v-160H400v160ZM180-400h160v-160H180v160Zm440 0h160v-160H620v160ZM180-180h160v-160H180v160Zm440 0h160v-160H620v160Z\"/>\n",
              "  </svg>\n",
              "    </button>\n",
              "\n",
              "  <style>\n",
              "    .colab-df-container {\n",
              "      display:flex;\n",
              "      gap: 12px;\n",
              "    }\n",
              "\n",
              "    .colab-df-convert {\n",
              "      background-color: #E8F0FE;\n",
              "      border: none;\n",
              "      border-radius: 50%;\n",
              "      cursor: pointer;\n",
              "      display: none;\n",
              "      fill: #1967D2;\n",
              "      height: 32px;\n",
              "      padding: 0 0 0 0;\n",
              "      width: 32px;\n",
              "    }\n",
              "\n",
              "    .colab-df-convert:hover {\n",
              "      background-color: #E2EBFA;\n",
              "      box-shadow: 0px 1px 2px rgba(60, 64, 67, 0.3), 0px 1px 3px 1px rgba(60, 64, 67, 0.15);\n",
              "      fill: #174EA6;\n",
              "    }\n",
              "\n",
              "    .colab-df-buttons div {\n",
              "      margin-bottom: 4px;\n",
              "    }\n",
              "\n",
              "    [theme=dark] .colab-df-convert {\n",
              "      background-color: #3B4455;\n",
              "      fill: #D2E3FC;\n",
              "    }\n",
              "\n",
              "    [theme=dark] .colab-df-convert:hover {\n",
              "      background-color: #434B5C;\n",
              "      box-shadow: 0px 1px 3px 1px rgba(0, 0, 0, 0.15);\n",
              "      filter: drop-shadow(0px 1px 2px rgba(0, 0, 0, 0.3));\n",
              "      fill: #FFFFFF;\n",
              "    }\n",
              "  </style>\n",
              "\n",
              "    <script>\n",
              "      const buttonEl =\n",
              "        document.querySelector('#df-cb864ca4-c75b-467f-9f33-070051be78aa button.colab-df-convert');\n",
              "      buttonEl.style.display =\n",
              "        google.colab.kernel.accessAllowed ? 'block' : 'none';\n",
              "\n",
              "      async function convertToInteractive(key) {\n",
              "        const element = document.querySelector('#df-cb864ca4-c75b-467f-9f33-070051be78aa');\n",
              "        const dataTable =\n",
              "          await google.colab.kernel.invokeFunction('convertToInteractive',\n",
              "                                                    [key], {});\n",
              "        if (!dataTable) return;\n",
              "\n",
              "        const docLinkHtml = 'Like what you see? Visit the ' +\n",
              "          '<a target=\"_blank\" href=https://colab.research.google.com/notebooks/data_table.ipynb>data table notebook</a>'\n",
              "          + ' to learn more about interactive tables.';\n",
              "        element.innerHTML = '';\n",
              "        dataTable['output_type'] = 'display_data';\n",
              "        await google.colab.output.renderOutput(dataTable, element);\n",
              "        const docLink = document.createElement('div');\n",
              "        docLink.innerHTML = docLinkHtml;\n",
              "        element.appendChild(docLink);\n",
              "      }\n",
              "    </script>\n",
              "  </div>\n",
              "\n",
              "\n",
              "<div id=\"df-f1a11322-0808-47d0-8c13-fc9967034a03\">\n",
              "  <button class=\"colab-df-quickchart\" onclick=\"quickchart('df-f1a11322-0808-47d0-8c13-fc9967034a03')\"\n",
              "            title=\"Suggest charts\"\n",
              "            style=\"display:none;\">\n",
              "\n",
              "<svg xmlns=\"http://www.w3.org/2000/svg\" height=\"24px\"viewBox=\"0 0 24 24\"\n",
              "     width=\"24px\">\n",
              "    <g>\n",
              "        <path d=\"M19 3H5c-1.1 0-2 .9-2 2v14c0 1.1.9 2 2 2h14c1.1 0 2-.9 2-2V5c0-1.1-.9-2-2-2zM9 17H7v-7h2v7zm4 0h-2V7h2v10zm4 0h-2v-4h2v4z\"/>\n",
              "    </g>\n",
              "</svg>\n",
              "  </button>\n",
              "\n",
              "<style>\n",
              "  .colab-df-quickchart {\n",
              "      --bg-color: #E8F0FE;\n",
              "      --fill-color: #1967D2;\n",
              "      --hover-bg-color: #E2EBFA;\n",
              "      --hover-fill-color: #174EA6;\n",
              "      --disabled-fill-color: #AAA;\n",
              "      --disabled-bg-color: #DDD;\n",
              "  }\n",
              "\n",
              "  [theme=dark] .colab-df-quickchart {\n",
              "      --bg-color: #3B4455;\n",
              "      --fill-color: #D2E3FC;\n",
              "      --hover-bg-color: #434B5C;\n",
              "      --hover-fill-color: #FFFFFF;\n",
              "      --disabled-bg-color: #3B4455;\n",
              "      --disabled-fill-color: #666;\n",
              "  }\n",
              "\n",
              "  .colab-df-quickchart {\n",
              "    background-color: var(--bg-color);\n",
              "    border: none;\n",
              "    border-radius: 50%;\n",
              "    cursor: pointer;\n",
              "    display: none;\n",
              "    fill: var(--fill-color);\n",
              "    height: 32px;\n",
              "    padding: 0;\n",
              "    width: 32px;\n",
              "  }\n",
              "\n",
              "  .colab-df-quickchart:hover {\n",
              "    background-color: var(--hover-bg-color);\n",
              "    box-shadow: 0 1px 2px rgba(60, 64, 67, 0.3), 0 1px 3px 1px rgba(60, 64, 67, 0.15);\n",
              "    fill: var(--button-hover-fill-color);\n",
              "  }\n",
              "\n",
              "  .colab-df-quickchart-complete:disabled,\n",
              "  .colab-df-quickchart-complete:disabled:hover {\n",
              "    background-color: var(--disabled-bg-color);\n",
              "    fill: var(--disabled-fill-color);\n",
              "    box-shadow: none;\n",
              "  }\n",
              "\n",
              "  .colab-df-spinner {\n",
              "    border: 2px solid var(--fill-color);\n",
              "    border-color: transparent;\n",
              "    border-bottom-color: var(--fill-color);\n",
              "    animation:\n",
              "      spin 1s steps(1) infinite;\n",
              "  }\n",
              "\n",
              "  @keyframes spin {\n",
              "    0% {\n",
              "      border-color: transparent;\n",
              "      border-bottom-color: var(--fill-color);\n",
              "      border-left-color: var(--fill-color);\n",
              "    }\n",
              "    20% {\n",
              "      border-color: transparent;\n",
              "      border-left-color: var(--fill-color);\n",
              "      border-top-color: var(--fill-color);\n",
              "    }\n",
              "    30% {\n",
              "      border-color: transparent;\n",
              "      border-left-color: var(--fill-color);\n",
              "      border-top-color: var(--fill-color);\n",
              "      border-right-color: var(--fill-color);\n",
              "    }\n",
              "    40% {\n",
              "      border-color: transparent;\n",
              "      border-right-color: var(--fill-color);\n",
              "      border-top-color: var(--fill-color);\n",
              "    }\n",
              "    60% {\n",
              "      border-color: transparent;\n",
              "      border-right-color: var(--fill-color);\n",
              "    }\n",
              "    80% {\n",
              "      border-color: transparent;\n",
              "      border-right-color: var(--fill-color);\n",
              "      border-bottom-color: var(--fill-color);\n",
              "    }\n",
              "    90% {\n",
              "      border-color: transparent;\n",
              "      border-bottom-color: var(--fill-color);\n",
              "    }\n",
              "  }\n",
              "</style>\n",
              "\n",
              "  <script>\n",
              "    async function quickchart(key) {\n",
              "      const quickchartButtonEl =\n",
              "        document.querySelector('#' + key + ' button');\n",
              "      quickchartButtonEl.disabled = true;  // To prevent multiple clicks.\n",
              "      quickchartButtonEl.classList.add('colab-df-spinner');\n",
              "      try {\n",
              "        const charts = await google.colab.kernel.invokeFunction(\n",
              "            'suggestCharts', [key], {});\n",
              "      } catch (error) {\n",
              "        console.error('Error during call to suggestCharts:', error);\n",
              "      }\n",
              "      quickchartButtonEl.classList.remove('colab-df-spinner');\n",
              "      quickchartButtonEl.classList.add('colab-df-quickchart-complete');\n",
              "    }\n",
              "    (() => {\n",
              "      let quickchartButtonEl =\n",
              "        document.querySelector('#df-f1a11322-0808-47d0-8c13-fc9967034a03 button');\n",
              "      quickchartButtonEl.style.display =\n",
              "        google.colab.kernel.accessAllowed ? 'block' : 'none';\n",
              "    })();\n",
              "  </script>\n",
              "</div>\n",
              "    </div>\n",
              "  </div>\n"
            ]
          },
          "metadata": {},
          "execution_count": 8
        }
      ]
    },
    {
      "cell_type": "markdown",
      "source": [
        "Разделение на категориальные и числовые признаки для задачи регрессии"
      ],
      "metadata": {
        "id": "k7uxMnJc6F8t"
      }
    },
    {
      "cell_type": "code",
      "source": [
        "num_cols1 = [\n",
        "    'Year',\n",
        "    'Engine HP',\n",
        "    'Engine Cylinders',\n",
        "    'Number of Doors',\n",
        "    'highway MPG',\n",
        "    'city mpg',\n",
        "    'Popularity',\n",
        "]\n",
        "\n",
        "cat_cols1 = [\n",
        "    'Make',\n",
        "    'Model',\n",
        "    'Engine Fuel Type',\n",
        "    'Transmission Type',\n",
        "    'Driven_Wheels',\n",
        "    'Market Category',\n",
        "    'Vehicle Size',\n",
        "    'Vehicle Style',\n",
        "]\n",
        "\n",
        "target_col1 = 'MSRP' # розничная цена автомобиля\n",
        "\n",
        "cols1 = num_cols1 + cat_cols1 + [target_col1]"
      ],
      "metadata": {
        "id": "YEnX6WleYuI6"
      },
      "execution_count": null,
      "outputs": []
    },
    {
      "cell_type": "markdown",
      "source": [
        "Разделение на категориальные и числовые признаки для задачи классификации"
      ],
      "metadata": {
        "id": "BA33ZA43olhL"
      }
    },
    {
      "cell_type": "code",
      "source": [
        "num_cols2 = [\n",
        "    'Engine HP',\n",
        "    'Engine Cylinders',\n",
        "    'Number of Doors',\n",
        "    'highway MPG',\n",
        "    'city mpg',\n",
        "    'Popularity',\n",
        "    'MSRP'\n",
        "]\n",
        "\n",
        "cat_cols2 = [\n",
        "    'Make',\n",
        "    'Model',\n",
        "    'Engine Fuel Type',\n",
        "    'Transmission Type',\n",
        "    'Driven_Wheels',\n",
        "    'Vehicle Size',\n",
        "    'Vehicle Style',\n",
        "    'Market Category',\n",
        "]\n",
        "\n",
        "target_col2 = 'Year'\n",
        "\n",
        "cols2 = num_cols2 + cat_cols2 + [target_col2]"
      ],
      "metadata": {
        "id": "qQZl6xKoonh0"
      },
      "execution_count": null,
      "outputs": []
    },
    {
      "cell_type": "code",
      "source": [
        "data1 = data[cols1]\n",
        "data1.head()"
      ],
      "metadata": {
        "colab": {
          "base_uri": "https://localhost:8080/",
          "height": 397
        },
        "id": "aSQpLmC8ifF3",
        "outputId": "bbaf0d2a-fc58-44ed-d687-d0d2b6491b14"
      },
      "execution_count": null,
      "outputs": [
        {
          "output_type": "execute_result",
          "data": {
            "text/plain": [
              "   Year  Engine HP  Engine Cylinders  Number of Doors  highway MPG  city mpg  \\\n",
              "0  2011      335.0               6.0              2.0           26        19   \n",
              "1  2011      300.0               6.0              2.0           28        19   \n",
              "2  2011      300.0               6.0              2.0           28        20   \n",
              "3  2011      230.0               6.0              2.0           28        18   \n",
              "4  2011      230.0               6.0              2.0           28        18   \n",
              "\n",
              "   Popularity Make       Model             Engine Fuel Type Transmission Type  \\\n",
              "0        3916  BMW  1 Series M  premium unleaded (required)            MANUAL   \n",
              "1        3916  BMW    1 Series  premium unleaded (required)            MANUAL   \n",
              "2        3916  BMW    1 Series  premium unleaded (required)            MANUAL   \n",
              "3        3916  BMW    1 Series  premium unleaded (required)            MANUAL   \n",
              "4        3916  BMW    1 Series  premium unleaded (required)            MANUAL   \n",
              "\n",
              "      Driven_Wheels                        Market Category Vehicle Size  \\\n",
              "0  rear wheel drive  Factory Tuner,Luxury,High-Performance      Compact   \n",
              "1  rear wheel drive                     Luxury,Performance      Compact   \n",
              "2  rear wheel drive                Luxury,High-Performance      Compact   \n",
              "3  rear wheel drive                     Luxury,Performance      Compact   \n",
              "4  rear wheel drive                                 Luxury      Compact   \n",
              "\n",
              "  Vehicle Style   MSRP  \n",
              "0         Coupe  46135  \n",
              "1   Convertible  40650  \n",
              "2         Coupe  36350  \n",
              "3         Coupe  29450  \n",
              "4   Convertible  34500  "
            ],
            "text/html": [
              "\n",
              "  <div id=\"df-5883b66d-7883-4c17-b377-8383e37d8f1f\" class=\"colab-df-container\">\n",
              "    <div>\n",
              "<style scoped>\n",
              "    .dataframe tbody tr th:only-of-type {\n",
              "        vertical-align: middle;\n",
              "    }\n",
              "\n",
              "    .dataframe tbody tr th {\n",
              "        vertical-align: top;\n",
              "    }\n",
              "\n",
              "    .dataframe thead th {\n",
              "        text-align: right;\n",
              "    }\n",
              "</style>\n",
              "<table border=\"1\" class=\"dataframe\">\n",
              "  <thead>\n",
              "    <tr style=\"text-align: right;\">\n",
              "      <th></th>\n",
              "      <th>Year</th>\n",
              "      <th>Engine HP</th>\n",
              "      <th>Engine Cylinders</th>\n",
              "      <th>Number of Doors</th>\n",
              "      <th>highway MPG</th>\n",
              "      <th>city mpg</th>\n",
              "      <th>Popularity</th>\n",
              "      <th>Make</th>\n",
              "      <th>Model</th>\n",
              "      <th>Engine Fuel Type</th>\n",
              "      <th>Transmission Type</th>\n",
              "      <th>Driven_Wheels</th>\n",
              "      <th>Market Category</th>\n",
              "      <th>Vehicle Size</th>\n",
              "      <th>Vehicle Style</th>\n",
              "      <th>MSRP</th>\n",
              "    </tr>\n",
              "  </thead>\n",
              "  <tbody>\n",
              "    <tr>\n",
              "      <th>0</th>\n",
              "      <td>2011</td>\n",
              "      <td>335.0</td>\n",
              "      <td>6.0</td>\n",
              "      <td>2.0</td>\n",
              "      <td>26</td>\n",
              "      <td>19</td>\n",
              "      <td>3916</td>\n",
              "      <td>BMW</td>\n",
              "      <td>1 Series M</td>\n",
              "      <td>premium unleaded (required)</td>\n",
              "      <td>MANUAL</td>\n",
              "      <td>rear wheel drive</td>\n",
              "      <td>Factory Tuner,Luxury,High-Performance</td>\n",
              "      <td>Compact</td>\n",
              "      <td>Coupe</td>\n",
              "      <td>46135</td>\n",
              "    </tr>\n",
              "    <tr>\n",
              "      <th>1</th>\n",
              "      <td>2011</td>\n",
              "      <td>300.0</td>\n",
              "      <td>6.0</td>\n",
              "      <td>2.0</td>\n",
              "      <td>28</td>\n",
              "      <td>19</td>\n",
              "      <td>3916</td>\n",
              "      <td>BMW</td>\n",
              "      <td>1 Series</td>\n",
              "      <td>premium unleaded (required)</td>\n",
              "      <td>MANUAL</td>\n",
              "      <td>rear wheel drive</td>\n",
              "      <td>Luxury,Performance</td>\n",
              "      <td>Compact</td>\n",
              "      <td>Convertible</td>\n",
              "      <td>40650</td>\n",
              "    </tr>\n",
              "    <tr>\n",
              "      <th>2</th>\n",
              "      <td>2011</td>\n",
              "      <td>300.0</td>\n",
              "      <td>6.0</td>\n",
              "      <td>2.0</td>\n",
              "      <td>28</td>\n",
              "      <td>20</td>\n",
              "      <td>3916</td>\n",
              "      <td>BMW</td>\n",
              "      <td>1 Series</td>\n",
              "      <td>premium unleaded (required)</td>\n",
              "      <td>MANUAL</td>\n",
              "      <td>rear wheel drive</td>\n",
              "      <td>Luxury,High-Performance</td>\n",
              "      <td>Compact</td>\n",
              "      <td>Coupe</td>\n",
              "      <td>36350</td>\n",
              "    </tr>\n",
              "    <tr>\n",
              "      <th>3</th>\n",
              "      <td>2011</td>\n",
              "      <td>230.0</td>\n",
              "      <td>6.0</td>\n",
              "      <td>2.0</td>\n",
              "      <td>28</td>\n",
              "      <td>18</td>\n",
              "      <td>3916</td>\n",
              "      <td>BMW</td>\n",
              "      <td>1 Series</td>\n",
              "      <td>premium unleaded (required)</td>\n",
              "      <td>MANUAL</td>\n",
              "      <td>rear wheel drive</td>\n",
              "      <td>Luxury,Performance</td>\n",
              "      <td>Compact</td>\n",
              "      <td>Coupe</td>\n",
              "      <td>29450</td>\n",
              "    </tr>\n",
              "    <tr>\n",
              "      <th>4</th>\n",
              "      <td>2011</td>\n",
              "      <td>230.0</td>\n",
              "      <td>6.0</td>\n",
              "      <td>2.0</td>\n",
              "      <td>28</td>\n",
              "      <td>18</td>\n",
              "      <td>3916</td>\n",
              "      <td>BMW</td>\n",
              "      <td>1 Series</td>\n",
              "      <td>premium unleaded (required)</td>\n",
              "      <td>MANUAL</td>\n",
              "      <td>rear wheel drive</td>\n",
              "      <td>Luxury</td>\n",
              "      <td>Compact</td>\n",
              "      <td>Convertible</td>\n",
              "      <td>34500</td>\n",
              "    </tr>\n",
              "  </tbody>\n",
              "</table>\n",
              "</div>\n",
              "    <div class=\"colab-df-buttons\">\n",
              "\n",
              "  <div class=\"colab-df-container\">\n",
              "    <button class=\"colab-df-convert\" onclick=\"convertToInteractive('df-5883b66d-7883-4c17-b377-8383e37d8f1f')\"\n",
              "            title=\"Convert this dataframe to an interactive table.\"\n",
              "            style=\"display:none;\">\n",
              "\n",
              "  <svg xmlns=\"http://www.w3.org/2000/svg\" height=\"24px\" viewBox=\"0 -960 960 960\">\n",
              "    <path d=\"M120-120v-720h720v720H120Zm60-500h600v-160H180v160Zm220 220h160v-160H400v160Zm0 220h160v-160H400v160ZM180-400h160v-160H180v160Zm440 0h160v-160H620v160ZM180-180h160v-160H180v160Zm440 0h160v-160H620v160Z\"/>\n",
              "  </svg>\n",
              "    </button>\n",
              "\n",
              "  <style>\n",
              "    .colab-df-container {\n",
              "      display:flex;\n",
              "      gap: 12px;\n",
              "    }\n",
              "\n",
              "    .colab-df-convert {\n",
              "      background-color: #E8F0FE;\n",
              "      border: none;\n",
              "      border-radius: 50%;\n",
              "      cursor: pointer;\n",
              "      display: none;\n",
              "      fill: #1967D2;\n",
              "      height: 32px;\n",
              "      padding: 0 0 0 0;\n",
              "      width: 32px;\n",
              "    }\n",
              "\n",
              "    .colab-df-convert:hover {\n",
              "      background-color: #E2EBFA;\n",
              "      box-shadow: 0px 1px 2px rgba(60, 64, 67, 0.3), 0px 1px 3px 1px rgba(60, 64, 67, 0.15);\n",
              "      fill: #174EA6;\n",
              "    }\n",
              "\n",
              "    .colab-df-buttons div {\n",
              "      margin-bottom: 4px;\n",
              "    }\n",
              "\n",
              "    [theme=dark] .colab-df-convert {\n",
              "      background-color: #3B4455;\n",
              "      fill: #D2E3FC;\n",
              "    }\n",
              "\n",
              "    [theme=dark] .colab-df-convert:hover {\n",
              "      background-color: #434B5C;\n",
              "      box-shadow: 0px 1px 3px 1px rgba(0, 0, 0, 0.15);\n",
              "      filter: drop-shadow(0px 1px 2px rgba(0, 0, 0, 0.3));\n",
              "      fill: #FFFFFF;\n",
              "    }\n",
              "  </style>\n",
              "\n",
              "    <script>\n",
              "      const buttonEl =\n",
              "        document.querySelector('#df-5883b66d-7883-4c17-b377-8383e37d8f1f button.colab-df-convert');\n",
              "      buttonEl.style.display =\n",
              "        google.colab.kernel.accessAllowed ? 'block' : 'none';\n",
              "\n",
              "      async function convertToInteractive(key) {\n",
              "        const element = document.querySelector('#df-5883b66d-7883-4c17-b377-8383e37d8f1f');\n",
              "        const dataTable =\n",
              "          await google.colab.kernel.invokeFunction('convertToInteractive',\n",
              "                                                    [key], {});\n",
              "        if (!dataTable) return;\n",
              "\n",
              "        const docLinkHtml = 'Like what you see? Visit the ' +\n",
              "          '<a target=\"_blank\" href=https://colab.research.google.com/notebooks/data_table.ipynb>data table notebook</a>'\n",
              "          + ' to learn more about interactive tables.';\n",
              "        element.innerHTML = '';\n",
              "        dataTable['output_type'] = 'display_data';\n",
              "        await google.colab.output.renderOutput(dataTable, element);\n",
              "        const docLink = document.createElement('div');\n",
              "        docLink.innerHTML = docLinkHtml;\n",
              "        element.appendChild(docLink);\n",
              "      }\n",
              "    </script>\n",
              "  </div>\n",
              "\n",
              "\n",
              "<div id=\"df-96fabfce-9116-4275-b0c7-780479f36a32\">\n",
              "  <button class=\"colab-df-quickchart\" onclick=\"quickchart('df-96fabfce-9116-4275-b0c7-780479f36a32')\"\n",
              "            title=\"Suggest charts\"\n",
              "            style=\"display:none;\">\n",
              "\n",
              "<svg xmlns=\"http://www.w3.org/2000/svg\" height=\"24px\"viewBox=\"0 0 24 24\"\n",
              "     width=\"24px\">\n",
              "    <g>\n",
              "        <path d=\"M19 3H5c-1.1 0-2 .9-2 2v14c0 1.1.9 2 2 2h14c1.1 0 2-.9 2-2V5c0-1.1-.9-2-2-2zM9 17H7v-7h2v7zm4 0h-2V7h2v10zm4 0h-2v-4h2v4z\"/>\n",
              "    </g>\n",
              "</svg>\n",
              "  </button>\n",
              "\n",
              "<style>\n",
              "  .colab-df-quickchart {\n",
              "      --bg-color: #E8F0FE;\n",
              "      --fill-color: #1967D2;\n",
              "      --hover-bg-color: #E2EBFA;\n",
              "      --hover-fill-color: #174EA6;\n",
              "      --disabled-fill-color: #AAA;\n",
              "      --disabled-bg-color: #DDD;\n",
              "  }\n",
              "\n",
              "  [theme=dark] .colab-df-quickchart {\n",
              "      --bg-color: #3B4455;\n",
              "      --fill-color: #D2E3FC;\n",
              "      --hover-bg-color: #434B5C;\n",
              "      --hover-fill-color: #FFFFFF;\n",
              "      --disabled-bg-color: #3B4455;\n",
              "      --disabled-fill-color: #666;\n",
              "  }\n",
              "\n",
              "  .colab-df-quickchart {\n",
              "    background-color: var(--bg-color);\n",
              "    border: none;\n",
              "    border-radius: 50%;\n",
              "    cursor: pointer;\n",
              "    display: none;\n",
              "    fill: var(--fill-color);\n",
              "    height: 32px;\n",
              "    padding: 0;\n",
              "    width: 32px;\n",
              "  }\n",
              "\n",
              "  .colab-df-quickchart:hover {\n",
              "    background-color: var(--hover-bg-color);\n",
              "    box-shadow: 0 1px 2px rgba(60, 64, 67, 0.3), 0 1px 3px 1px rgba(60, 64, 67, 0.15);\n",
              "    fill: var(--button-hover-fill-color);\n",
              "  }\n",
              "\n",
              "  .colab-df-quickchart-complete:disabled,\n",
              "  .colab-df-quickchart-complete:disabled:hover {\n",
              "    background-color: var(--disabled-bg-color);\n",
              "    fill: var(--disabled-fill-color);\n",
              "    box-shadow: none;\n",
              "  }\n",
              "\n",
              "  .colab-df-spinner {\n",
              "    border: 2px solid var(--fill-color);\n",
              "    border-color: transparent;\n",
              "    border-bottom-color: var(--fill-color);\n",
              "    animation:\n",
              "      spin 1s steps(1) infinite;\n",
              "  }\n",
              "\n",
              "  @keyframes spin {\n",
              "    0% {\n",
              "      border-color: transparent;\n",
              "      border-bottom-color: var(--fill-color);\n",
              "      border-left-color: var(--fill-color);\n",
              "    }\n",
              "    20% {\n",
              "      border-color: transparent;\n",
              "      border-left-color: var(--fill-color);\n",
              "      border-top-color: var(--fill-color);\n",
              "    }\n",
              "    30% {\n",
              "      border-color: transparent;\n",
              "      border-left-color: var(--fill-color);\n",
              "      border-top-color: var(--fill-color);\n",
              "      border-right-color: var(--fill-color);\n",
              "    }\n",
              "    40% {\n",
              "      border-color: transparent;\n",
              "      border-right-color: var(--fill-color);\n",
              "      border-top-color: var(--fill-color);\n",
              "    }\n",
              "    60% {\n",
              "      border-color: transparent;\n",
              "      border-right-color: var(--fill-color);\n",
              "    }\n",
              "    80% {\n",
              "      border-color: transparent;\n",
              "      border-right-color: var(--fill-color);\n",
              "      border-bottom-color: var(--fill-color);\n",
              "    }\n",
              "    90% {\n",
              "      border-color: transparent;\n",
              "      border-bottom-color: var(--fill-color);\n",
              "    }\n",
              "  }\n",
              "</style>\n",
              "\n",
              "  <script>\n",
              "    async function quickchart(key) {\n",
              "      const quickchartButtonEl =\n",
              "        document.querySelector('#' + key + ' button');\n",
              "      quickchartButtonEl.disabled = true;  // To prevent multiple clicks.\n",
              "      quickchartButtonEl.classList.add('colab-df-spinner');\n",
              "      try {\n",
              "        const charts = await google.colab.kernel.invokeFunction(\n",
              "            'suggestCharts', [key], {});\n",
              "      } catch (error) {\n",
              "        console.error('Error during call to suggestCharts:', error);\n",
              "      }\n",
              "      quickchartButtonEl.classList.remove('colab-df-spinner');\n",
              "      quickchartButtonEl.classList.add('colab-df-quickchart-complete');\n",
              "    }\n",
              "    (() => {\n",
              "      let quickchartButtonEl =\n",
              "        document.querySelector('#df-96fabfce-9116-4275-b0c7-780479f36a32 button');\n",
              "      quickchartButtonEl.style.display =\n",
              "        google.colab.kernel.accessAllowed ? 'block' : 'none';\n",
              "    })();\n",
              "  </script>\n",
              "</div>\n",
              "    </div>\n",
              "  </div>\n"
            ]
          },
          "metadata": {},
          "execution_count": 11
        }
      ]
    },
    {
      "cell_type": "code",
      "source": [
        "data2 = data[cols2]\n",
        "data2.head()"
      ],
      "metadata": {
        "colab": {
          "base_uri": "https://localhost:8080/",
          "height": 397
        },
        "id": "Aw9swVAvpOr2",
        "outputId": "a14e228c-16ce-4628-a756-ffa5cac066d4"
      },
      "execution_count": null,
      "outputs": [
        {
          "output_type": "execute_result",
          "data": {
            "text/plain": [
              "   Engine HP  Engine Cylinders  Number of Doors  highway MPG  city mpg  \\\n",
              "0      335.0               6.0              2.0           26        19   \n",
              "1      300.0               6.0              2.0           28        19   \n",
              "2      300.0               6.0              2.0           28        20   \n",
              "3      230.0               6.0              2.0           28        18   \n",
              "4      230.0               6.0              2.0           28        18   \n",
              "\n",
              "   Popularity   MSRP Make       Model             Engine Fuel Type  \\\n",
              "0        3916  46135  BMW  1 Series M  premium unleaded (required)   \n",
              "1        3916  40650  BMW    1 Series  premium unleaded (required)   \n",
              "2        3916  36350  BMW    1 Series  premium unleaded (required)   \n",
              "3        3916  29450  BMW    1 Series  premium unleaded (required)   \n",
              "4        3916  34500  BMW    1 Series  premium unleaded (required)   \n",
              "\n",
              "  Transmission Type     Driven_Wheels Vehicle Size Vehicle Style  \\\n",
              "0            MANUAL  rear wheel drive      Compact         Coupe   \n",
              "1            MANUAL  rear wheel drive      Compact   Convertible   \n",
              "2            MANUAL  rear wheel drive      Compact         Coupe   \n",
              "3            MANUAL  rear wheel drive      Compact         Coupe   \n",
              "4            MANUAL  rear wheel drive      Compact   Convertible   \n",
              "\n",
              "                         Market Category  Year  \n",
              "0  Factory Tuner,Luxury,High-Performance  2011  \n",
              "1                     Luxury,Performance  2011  \n",
              "2                Luxury,High-Performance  2011  \n",
              "3                     Luxury,Performance  2011  \n",
              "4                                 Luxury  2011  "
            ],
            "text/html": [
              "\n",
              "  <div id=\"df-39fd4fc7-6a9b-4016-a68d-cff79c9543b6\" class=\"colab-df-container\">\n",
              "    <div>\n",
              "<style scoped>\n",
              "    .dataframe tbody tr th:only-of-type {\n",
              "        vertical-align: middle;\n",
              "    }\n",
              "\n",
              "    .dataframe tbody tr th {\n",
              "        vertical-align: top;\n",
              "    }\n",
              "\n",
              "    .dataframe thead th {\n",
              "        text-align: right;\n",
              "    }\n",
              "</style>\n",
              "<table border=\"1\" class=\"dataframe\">\n",
              "  <thead>\n",
              "    <tr style=\"text-align: right;\">\n",
              "      <th></th>\n",
              "      <th>Engine HP</th>\n",
              "      <th>Engine Cylinders</th>\n",
              "      <th>Number of Doors</th>\n",
              "      <th>highway MPG</th>\n",
              "      <th>city mpg</th>\n",
              "      <th>Popularity</th>\n",
              "      <th>MSRP</th>\n",
              "      <th>Make</th>\n",
              "      <th>Model</th>\n",
              "      <th>Engine Fuel Type</th>\n",
              "      <th>Transmission Type</th>\n",
              "      <th>Driven_Wheels</th>\n",
              "      <th>Vehicle Size</th>\n",
              "      <th>Vehicle Style</th>\n",
              "      <th>Market Category</th>\n",
              "      <th>Year</th>\n",
              "    </tr>\n",
              "  </thead>\n",
              "  <tbody>\n",
              "    <tr>\n",
              "      <th>0</th>\n",
              "      <td>335.0</td>\n",
              "      <td>6.0</td>\n",
              "      <td>2.0</td>\n",
              "      <td>26</td>\n",
              "      <td>19</td>\n",
              "      <td>3916</td>\n",
              "      <td>46135</td>\n",
              "      <td>BMW</td>\n",
              "      <td>1 Series M</td>\n",
              "      <td>premium unleaded (required)</td>\n",
              "      <td>MANUAL</td>\n",
              "      <td>rear wheel drive</td>\n",
              "      <td>Compact</td>\n",
              "      <td>Coupe</td>\n",
              "      <td>Factory Tuner,Luxury,High-Performance</td>\n",
              "      <td>2011</td>\n",
              "    </tr>\n",
              "    <tr>\n",
              "      <th>1</th>\n",
              "      <td>300.0</td>\n",
              "      <td>6.0</td>\n",
              "      <td>2.0</td>\n",
              "      <td>28</td>\n",
              "      <td>19</td>\n",
              "      <td>3916</td>\n",
              "      <td>40650</td>\n",
              "      <td>BMW</td>\n",
              "      <td>1 Series</td>\n",
              "      <td>premium unleaded (required)</td>\n",
              "      <td>MANUAL</td>\n",
              "      <td>rear wheel drive</td>\n",
              "      <td>Compact</td>\n",
              "      <td>Convertible</td>\n",
              "      <td>Luxury,Performance</td>\n",
              "      <td>2011</td>\n",
              "    </tr>\n",
              "    <tr>\n",
              "      <th>2</th>\n",
              "      <td>300.0</td>\n",
              "      <td>6.0</td>\n",
              "      <td>2.0</td>\n",
              "      <td>28</td>\n",
              "      <td>20</td>\n",
              "      <td>3916</td>\n",
              "      <td>36350</td>\n",
              "      <td>BMW</td>\n",
              "      <td>1 Series</td>\n",
              "      <td>premium unleaded (required)</td>\n",
              "      <td>MANUAL</td>\n",
              "      <td>rear wheel drive</td>\n",
              "      <td>Compact</td>\n",
              "      <td>Coupe</td>\n",
              "      <td>Luxury,High-Performance</td>\n",
              "      <td>2011</td>\n",
              "    </tr>\n",
              "    <tr>\n",
              "      <th>3</th>\n",
              "      <td>230.0</td>\n",
              "      <td>6.0</td>\n",
              "      <td>2.0</td>\n",
              "      <td>28</td>\n",
              "      <td>18</td>\n",
              "      <td>3916</td>\n",
              "      <td>29450</td>\n",
              "      <td>BMW</td>\n",
              "      <td>1 Series</td>\n",
              "      <td>premium unleaded (required)</td>\n",
              "      <td>MANUAL</td>\n",
              "      <td>rear wheel drive</td>\n",
              "      <td>Compact</td>\n",
              "      <td>Coupe</td>\n",
              "      <td>Luxury,Performance</td>\n",
              "      <td>2011</td>\n",
              "    </tr>\n",
              "    <tr>\n",
              "      <th>4</th>\n",
              "      <td>230.0</td>\n",
              "      <td>6.0</td>\n",
              "      <td>2.0</td>\n",
              "      <td>28</td>\n",
              "      <td>18</td>\n",
              "      <td>3916</td>\n",
              "      <td>34500</td>\n",
              "      <td>BMW</td>\n",
              "      <td>1 Series</td>\n",
              "      <td>premium unleaded (required)</td>\n",
              "      <td>MANUAL</td>\n",
              "      <td>rear wheel drive</td>\n",
              "      <td>Compact</td>\n",
              "      <td>Convertible</td>\n",
              "      <td>Luxury</td>\n",
              "      <td>2011</td>\n",
              "    </tr>\n",
              "  </tbody>\n",
              "</table>\n",
              "</div>\n",
              "    <div class=\"colab-df-buttons\">\n",
              "\n",
              "  <div class=\"colab-df-container\">\n",
              "    <button class=\"colab-df-convert\" onclick=\"convertToInteractive('df-39fd4fc7-6a9b-4016-a68d-cff79c9543b6')\"\n",
              "            title=\"Convert this dataframe to an interactive table.\"\n",
              "            style=\"display:none;\">\n",
              "\n",
              "  <svg xmlns=\"http://www.w3.org/2000/svg\" height=\"24px\" viewBox=\"0 -960 960 960\">\n",
              "    <path d=\"M120-120v-720h720v720H120Zm60-500h600v-160H180v160Zm220 220h160v-160H400v160Zm0 220h160v-160H400v160ZM180-400h160v-160H180v160Zm440 0h160v-160H620v160ZM180-180h160v-160H180v160Zm440 0h160v-160H620v160Z\"/>\n",
              "  </svg>\n",
              "    </button>\n",
              "\n",
              "  <style>\n",
              "    .colab-df-container {\n",
              "      display:flex;\n",
              "      gap: 12px;\n",
              "    }\n",
              "\n",
              "    .colab-df-convert {\n",
              "      background-color: #E8F0FE;\n",
              "      border: none;\n",
              "      border-radius: 50%;\n",
              "      cursor: pointer;\n",
              "      display: none;\n",
              "      fill: #1967D2;\n",
              "      height: 32px;\n",
              "      padding: 0 0 0 0;\n",
              "      width: 32px;\n",
              "    }\n",
              "\n",
              "    .colab-df-convert:hover {\n",
              "      background-color: #E2EBFA;\n",
              "      box-shadow: 0px 1px 2px rgba(60, 64, 67, 0.3), 0px 1px 3px 1px rgba(60, 64, 67, 0.15);\n",
              "      fill: #174EA6;\n",
              "    }\n",
              "\n",
              "    .colab-df-buttons div {\n",
              "      margin-bottom: 4px;\n",
              "    }\n",
              "\n",
              "    [theme=dark] .colab-df-convert {\n",
              "      background-color: #3B4455;\n",
              "      fill: #D2E3FC;\n",
              "    }\n",
              "\n",
              "    [theme=dark] .colab-df-convert:hover {\n",
              "      background-color: #434B5C;\n",
              "      box-shadow: 0px 1px 3px 1px rgba(0, 0, 0, 0.15);\n",
              "      filter: drop-shadow(0px 1px 2px rgba(0, 0, 0, 0.3));\n",
              "      fill: #FFFFFF;\n",
              "    }\n",
              "  </style>\n",
              "\n",
              "    <script>\n",
              "      const buttonEl =\n",
              "        document.querySelector('#df-39fd4fc7-6a9b-4016-a68d-cff79c9543b6 button.colab-df-convert');\n",
              "      buttonEl.style.display =\n",
              "        google.colab.kernel.accessAllowed ? 'block' : 'none';\n",
              "\n",
              "      async function convertToInteractive(key) {\n",
              "        const element = document.querySelector('#df-39fd4fc7-6a9b-4016-a68d-cff79c9543b6');\n",
              "        const dataTable =\n",
              "          await google.colab.kernel.invokeFunction('convertToInteractive',\n",
              "                                                    [key], {});\n",
              "        if (!dataTable) return;\n",
              "\n",
              "        const docLinkHtml = 'Like what you see? Visit the ' +\n",
              "          '<a target=\"_blank\" href=https://colab.research.google.com/notebooks/data_table.ipynb>data table notebook</a>'\n",
              "          + ' to learn more about interactive tables.';\n",
              "        element.innerHTML = '';\n",
              "        dataTable['output_type'] = 'display_data';\n",
              "        await google.colab.output.renderOutput(dataTable, element);\n",
              "        const docLink = document.createElement('div');\n",
              "        docLink.innerHTML = docLinkHtml;\n",
              "        element.appendChild(docLink);\n",
              "      }\n",
              "    </script>\n",
              "  </div>\n",
              "\n",
              "\n",
              "<div id=\"df-62b4a07d-e6a0-42d4-a7f3-2cf608d0550a\">\n",
              "  <button class=\"colab-df-quickchart\" onclick=\"quickchart('df-62b4a07d-e6a0-42d4-a7f3-2cf608d0550a')\"\n",
              "            title=\"Suggest charts\"\n",
              "            style=\"display:none;\">\n",
              "\n",
              "<svg xmlns=\"http://www.w3.org/2000/svg\" height=\"24px\"viewBox=\"0 0 24 24\"\n",
              "     width=\"24px\">\n",
              "    <g>\n",
              "        <path d=\"M19 3H5c-1.1 0-2 .9-2 2v14c0 1.1.9 2 2 2h14c1.1 0 2-.9 2-2V5c0-1.1-.9-2-2-2zM9 17H7v-7h2v7zm4 0h-2V7h2v10zm4 0h-2v-4h2v4z\"/>\n",
              "    </g>\n",
              "</svg>\n",
              "  </button>\n",
              "\n",
              "<style>\n",
              "  .colab-df-quickchart {\n",
              "      --bg-color: #E8F0FE;\n",
              "      --fill-color: #1967D2;\n",
              "      --hover-bg-color: #E2EBFA;\n",
              "      --hover-fill-color: #174EA6;\n",
              "      --disabled-fill-color: #AAA;\n",
              "      --disabled-bg-color: #DDD;\n",
              "  }\n",
              "\n",
              "  [theme=dark] .colab-df-quickchart {\n",
              "      --bg-color: #3B4455;\n",
              "      --fill-color: #D2E3FC;\n",
              "      --hover-bg-color: #434B5C;\n",
              "      --hover-fill-color: #FFFFFF;\n",
              "      --disabled-bg-color: #3B4455;\n",
              "      --disabled-fill-color: #666;\n",
              "  }\n",
              "\n",
              "  .colab-df-quickchart {\n",
              "    background-color: var(--bg-color);\n",
              "    border: none;\n",
              "    border-radius: 50%;\n",
              "    cursor: pointer;\n",
              "    display: none;\n",
              "    fill: var(--fill-color);\n",
              "    height: 32px;\n",
              "    padding: 0;\n",
              "    width: 32px;\n",
              "  }\n",
              "\n",
              "  .colab-df-quickchart:hover {\n",
              "    background-color: var(--hover-bg-color);\n",
              "    box-shadow: 0 1px 2px rgba(60, 64, 67, 0.3), 0 1px 3px 1px rgba(60, 64, 67, 0.15);\n",
              "    fill: var(--button-hover-fill-color);\n",
              "  }\n",
              "\n",
              "  .colab-df-quickchart-complete:disabled,\n",
              "  .colab-df-quickchart-complete:disabled:hover {\n",
              "    background-color: var(--disabled-bg-color);\n",
              "    fill: var(--disabled-fill-color);\n",
              "    box-shadow: none;\n",
              "  }\n",
              "\n",
              "  .colab-df-spinner {\n",
              "    border: 2px solid var(--fill-color);\n",
              "    border-color: transparent;\n",
              "    border-bottom-color: var(--fill-color);\n",
              "    animation:\n",
              "      spin 1s steps(1) infinite;\n",
              "  }\n",
              "\n",
              "  @keyframes spin {\n",
              "    0% {\n",
              "      border-color: transparent;\n",
              "      border-bottom-color: var(--fill-color);\n",
              "      border-left-color: var(--fill-color);\n",
              "    }\n",
              "    20% {\n",
              "      border-color: transparent;\n",
              "      border-left-color: var(--fill-color);\n",
              "      border-top-color: var(--fill-color);\n",
              "    }\n",
              "    30% {\n",
              "      border-color: transparent;\n",
              "      border-left-color: var(--fill-color);\n",
              "      border-top-color: var(--fill-color);\n",
              "      border-right-color: var(--fill-color);\n",
              "    }\n",
              "    40% {\n",
              "      border-color: transparent;\n",
              "      border-right-color: var(--fill-color);\n",
              "      border-top-color: var(--fill-color);\n",
              "    }\n",
              "    60% {\n",
              "      border-color: transparent;\n",
              "      border-right-color: var(--fill-color);\n",
              "    }\n",
              "    80% {\n",
              "      border-color: transparent;\n",
              "      border-right-color: var(--fill-color);\n",
              "      border-bottom-color: var(--fill-color);\n",
              "    }\n",
              "    90% {\n",
              "      border-color: transparent;\n",
              "      border-bottom-color: var(--fill-color);\n",
              "    }\n",
              "  }\n",
              "</style>\n",
              "\n",
              "  <script>\n",
              "    async function quickchart(key) {\n",
              "      const quickchartButtonEl =\n",
              "        document.querySelector('#' + key + ' button');\n",
              "      quickchartButtonEl.disabled = true;  // To prevent multiple clicks.\n",
              "      quickchartButtonEl.classList.add('colab-df-spinner');\n",
              "      try {\n",
              "        const charts = await google.colab.kernel.invokeFunction(\n",
              "            'suggestCharts', [key], {});\n",
              "      } catch (error) {\n",
              "        console.error('Error during call to suggestCharts:', error);\n",
              "      }\n",
              "      quickchartButtonEl.classList.remove('colab-df-spinner');\n",
              "      quickchartButtonEl.classList.add('colab-df-quickchart-complete');\n",
              "    }\n",
              "    (() => {\n",
              "      let quickchartButtonEl =\n",
              "        document.querySelector('#df-62b4a07d-e6a0-42d4-a7f3-2cf608d0550a button');\n",
              "      quickchartButtonEl.style.display =\n",
              "        google.colab.kernel.accessAllowed ? 'block' : 'none';\n",
              "    })();\n",
              "  </script>\n",
              "</div>\n",
              "    </div>\n",
              "  </div>\n"
            ]
          },
          "metadata": {},
          "execution_count": 12
        }
      ]
    },
    {
      "cell_type": "markdown",
      "source": [
        "Все вышеперечисленные признаки были выбраны как наиболее значимые для предсказания цены и года производства."
      ],
      "metadata": {
        "id": "B1tVSX1r6PSM"
      }
    },
    {
      "cell_type": "markdown",
      "source": [
        "#3. Создание безлайна"
      ],
      "metadata": {
        "id": "3nXbeTEW3TdN"
      }
    },
    {
      "cell_type": "markdown",
      "source": [
        "Пока что мы работаем с непреобразованными данными, поэтому учитывать будем только числовые признаки"
      ],
      "metadata": {
        "id": "tFp_P5Nsg1-_"
      }
    },
    {
      "cell_type": "code",
      "source": [
        "from sklearn.preprocessing import StandardScaler\n",
        "\n",
        "pca = StandardScaler()\n",
        "pca.fit(data1[num_cols1])\n",
        "X1 = pca.transform(data1[num_cols1])\n",
        "\n",
        "pca = StandardScaler()\n",
        "pca.fit(data2[num_cols2])\n",
        "X2 = pca.transform(data2[num_cols2])"
      ],
      "metadata": {
        "id": "XN4RXE-Bf113"
      },
      "execution_count": null,
      "outputs": []
    },
    {
      "cell_type": "code",
      "source": [
        "import math\n",
        "\n",
        "for i in range(0, len(X1)):\n",
        "  for j in range(0, len(X1[i])):\n",
        "    if(math.isnan(X1[i][j])):\n",
        "      X1[i][j] = 0\n",
        "\n",
        "for i in range(0, len(X2)):\n",
        "  for j in range(0, len(X2[i])):\n",
        "    if(math.isnan(X2[i][j])):\n",
        "      X2[i][j] = 0"
      ],
      "metadata": {
        "id": "79rqXl5osLNI"
      },
      "execution_count": null,
      "outputs": []
    },
    {
      "cell_type": "code",
      "source": [
        "from sklearn.model_selection import train_test_split"
      ],
      "metadata": {
        "id": "xJWlhex6f3be"
      },
      "execution_count": null,
      "outputs": []
    },
    {
      "cell_type": "markdown",
      "source": [
        "Разделение на train и test"
      ],
      "metadata": {
        "id": "YhQ7h_3Y6oJ9"
      }
    },
    {
      "cell_type": "code",
      "source": [
        "X_train1, X_test1, y_train1, y_test1 = train_test_split(X1, data1[target_col1].values, test_size=0.2)\n",
        "X_train2, X_test2, y_train2, y_test2 = train_test_split(X2, data2[target_col2].values, test_size=0.2)"
      ],
      "metadata": {
        "id": "kupHo_S_f3zu"
      },
      "execution_count": null,
      "outputs": []
    },
    {
      "cell_type": "code",
      "source": [
        "from sklearn.dummy import DummyRegressor\n",
        "from sklearn.linear_model import LinearRegression\n",
        "from sklearn.linear_model import LogisticRegression\n",
        "from sklearn.metrics import r2_score, mean_squared_error"
      ],
      "metadata": {
        "id": "uHzmPJw4f6Z-"
      },
      "execution_count": null,
      "outputs": []
    },
    {
      "cell_type": "code",
      "source": [
        "def print_metrics(y_preds, y):\n",
        "    print(f'R^2: {r2_score(y_preds, y)}')\n",
        "    print(f'MSE: {mean_squared_error(y_preds, y)}')"
      ],
      "metadata": {
        "id": "rOmcWmDZf8B2"
      },
      "execution_count": null,
      "outputs": []
    },
    {
      "cell_type": "markdown",
      "source": [
        "##3.a: Оценка качества константным предиктором"
      ],
      "metadata": {
        "id": "qJtoVyqp3f-G"
      }
    },
    {
      "cell_type": "code",
      "source": [
        "dr = DummyRegressor()\n",
        "dr.fit(X_train1, y_train1)\n",
        "\n",
        "print_metrics(dr.predict(X_test1), y_test1)"
      ],
      "metadata": {
        "colab": {
          "base_uri": "https://localhost:8080/"
        },
        "id": "6m-VIJWM1qkV",
        "outputId": "a62a744c-d3e8-4364-c5f8-1256772329ae"
      },
      "execution_count": null,
      "outputs": [
        {
          "output_type": "stream",
          "name": "stdout",
          "text": [
            "R^2: 0.0\n",
            "MSE: 3275946871.6245093\n"
          ]
        }
      ]
    },
    {
      "cell_type": "code",
      "source": [
        "dr.fit(X_train2, y_train2)\n",
        "\n",
        "print_metrics(dr.predict(X_test2), y_test2)"
      ],
      "metadata": {
        "colab": {
          "base_uri": "https://localhost:8080/"
        },
        "id": "n9BCueVPp_UC",
        "outputId": "adc6e383-0746-466f-8129-da979eebbc66"
      },
      "execution_count": null,
      "outputs": [
        {
          "output_type": "stream",
          "name": "stdout",
          "text": [
            "R^2: 0.0\n",
            "MSE: 57.485485380009685\n"
          ]
        }
      ]
    },
    {
      "cell_type": "markdown",
      "source": [
        "##3.b: Обучение моделей линейной и логистической регрессии из sklearn"
      ],
      "metadata": {
        "id": "vE74jdiz3mvN"
      }
    },
    {
      "cell_type": "code",
      "source": [
        "lr = LinearRegression()\n",
        "lr.fit(X_train1, y_train1)\n",
        "\n",
        "print_metrics(lr.predict(X_test1), y_test1)"
      ],
      "metadata": {
        "colab": {
          "base_uri": "https://localhost:8080/"
        },
        "id": "AXe0j8oMf-pP",
        "outputId": "b7257d1b-1b03-478b-a5df-9d827b9c20f5"
      },
      "execution_count": null,
      "outputs": [
        {
          "output_type": "stream",
          "name": "stdout",
          "text": [
            "R^2: -0.046186869254689844\n",
            "MSE: 1749612460.5815568\n"
          ]
        }
      ]
    },
    {
      "cell_type": "code",
      "source": [
        "lr = LogisticRegression()\n",
        "lr.fit(X_train2, y_train2)\n",
        "\n",
        "print_metrics(lr.predict(X_test2), y_test2)"
      ],
      "metadata": {
        "colab": {
          "base_uri": "https://localhost:8080/"
        },
        "id": "r6zbY8Fat2NN",
        "outputId": "cd45c08b-df3d-4cd5-c7a9-b367cd6ddd2a"
      },
      "execution_count": null,
      "outputs": [
        {
          "output_type": "stream",
          "name": "stdout",
          "text": [
            "R^2: 0.7475218320646035\n",
            "MSE: 14.209819555182543\n"
          ]
        },
        {
          "output_type": "stream",
          "name": "stderr",
          "text": [
            "/usr/local/lib/python3.10/dist-packages/sklearn/linear_model/_logistic.py:458: ConvergenceWarning: lbfgs failed to converge (status=1):\n",
            "STOP: TOTAL NO. of ITERATIONS REACHED LIMIT.\n",
            "\n",
            "Increase the number of iterations (max_iter) or scale the data as shown in:\n",
            "    https://scikit-learn.org/stable/modules/preprocessing.html\n",
            "Please also refer to the documentation for alternative solver options:\n",
            "    https://scikit-learn.org/stable/modules/linear_model.html#logistic-regression\n",
            "  n_iter_i = _check_optimize_result(\n"
          ]
        }
      ]
    },
    {
      "cell_type": "markdown",
      "source": [
        "##3.c: Сравнить результаты моделей в сравнении с константным предиктором"
      ],
      "metadata": {
        "id": "O7UJvdmx3-yN"
      }
    },
    {
      "cell_type": "markdown",
      "source": [
        "Задача регрессии решается лучше, очевидно, линейной регрессией, чем константным предиктором, но недостаточно хорошо (такая большая среднеквадратичная ошибка связана с большими значениями цены автомобилей).\n",
        "\n",
        "Задача классификации решается также лучше логистической регрессией, чем константным предиктором."
      ],
      "metadata": {
        "id": "Rt9eBIQc4IF1"
      }
    },
    {
      "cell_type": "markdown",
      "source": [
        "##3.d: Сделать выводы"
      ],
      "metadata": {
        "id": "9yY6lqYK7HYc"
      }
    },
    {
      "cell_type": "markdown",
      "source": [
        "Для улучшения результатов попытаемся провести анализ представления данных. Попробуем удалить данные, которые приводят к \"всплескам\" результатов (если такие имеются), начнём учитывать категориальные признаки, возможно, добавим новые, а также проверим, если ли занулённые (nan) значения в нашей таблице (они также могут плохо влиять на результаты обучения)."
      ],
      "metadata": {
        "id": "aYgAXj6K7M5V"
      }
    },
    {
      "cell_type": "markdown",
      "source": [
        "#4. Улучшение безлайна"
      ],
      "metadata": {
        "id": "sAzjdQiT7tuN"
      }
    },
    {
      "cell_type": "markdown",
      "source": [
        "##4.a: Визуализировать данные"
      ],
      "metadata": {
        "id": "sepOOAS_70YU"
      }
    },
    {
      "cell_type": "markdown",
      "source": [
        "Проверим, есть ли значения Nan в датасете"
      ],
      "metadata": {
        "id": "B0r9JvNG_qsW"
      }
    },
    {
      "cell_type": "code",
      "source": [
        "data1.isna().sum()"
      ],
      "metadata": {
        "colab": {
          "base_uri": "https://localhost:8080/"
        },
        "id": "hTjvvEAH-z9H",
        "outputId": "3a6d8602-2b1f-46ec-da04-458747943ff4"
      },
      "execution_count": null,
      "outputs": [
        {
          "output_type": "execute_result",
          "data": {
            "text/plain": [
              "Year                    0\n",
              "Engine HP              69\n",
              "Engine Cylinders       30\n",
              "Number of Doors         6\n",
              "highway MPG             0\n",
              "city mpg                0\n",
              "Popularity              0\n",
              "Make                    0\n",
              "Model                   0\n",
              "Engine Fuel Type        3\n",
              "Transmission Type       0\n",
              "Driven_Wheels           0\n",
              "Market Category      3742\n",
              "Vehicle Size            0\n",
              "Vehicle Style           0\n",
              "MSRP                    0\n",
              "dtype: int64"
            ]
          },
          "metadata": {},
          "execution_count": 35
        }
      ]
    },
    {
      "cell_type": "markdown",
      "source": [
        "Удалим все строчки, в которых присутствует Nan"
      ],
      "metadata": {
        "id": "4-E9HlAGALRb"
      }
    },
    {
      "cell_type": "code",
      "source": [
        "data1 =  data1.dropna()\n",
        "data2 =  data2.dropna()"
      ],
      "metadata": {
        "id": "vKu5IP9x_7Lk"
      },
      "execution_count": null,
      "outputs": []
    },
    {
      "cell_type": "code",
      "source": [
        "data1.isna().sum()"
      ],
      "metadata": {
        "colab": {
          "base_uri": "https://localhost:8080/"
        },
        "id": "trZptUZr_-E8",
        "outputId": "3dbc48fc-1123-475a-a1ac-7a86a530a12d"
      },
      "execution_count": null,
      "outputs": [
        {
          "output_type": "execute_result",
          "data": {
            "text/plain": [
              "Year                 0\n",
              "Engine HP            0\n",
              "Engine Cylinders     0\n",
              "Number of Doors      0\n",
              "highway MPG          0\n",
              "city mpg             0\n",
              "Popularity           0\n",
              "Make                 0\n",
              "Model                0\n",
              "Engine Fuel Type     0\n",
              "Transmission Type    0\n",
              "Driven_Wheels        0\n",
              "Market Category      0\n",
              "Vehicle Size         0\n",
              "Vehicle Style        0\n",
              "MSRP                 0\n",
              "dtype: int64"
            ]
          },
          "metadata": {},
          "execution_count": 37
        }
      ]
    },
    {
      "cell_type": "markdown",
      "source": [
        "Проанализируем распределение данных категориальных признаков"
      ],
      "metadata": {
        "id": "mjIMYD37AlDV"
      }
    },
    {
      "cell_type": "code",
      "source": [
        "for col in cat_cols1:\n",
        "    print(f\"{col} Distribution\")\n",
        "    print(data1[col].value_counts())\n",
        "    print()"
      ],
      "metadata": {
        "colab": {
          "base_uri": "https://localhost:8080/"
        },
        "id": "Fb315px4Age1",
        "outputId": "850fad67-5863-47da-9c4c-78698703d478"
      },
      "execution_count": null,
      "outputs": [
        {
          "output_type": "stream",
          "name": "stdout",
          "text": [
            "Make Distribution\n",
            "Chevrolet        614\n",
            "Volkswagen       581\n",
            "Ford             492\n",
            "Cadillac         397\n",
            "Mercedes-Benz    352\n",
            "BMW              334\n",
            "Infiniti         330\n",
            "Audi             328\n",
            "Dodge            320\n",
            "Nissan           308\n",
            "Toyota           300\n",
            "Honda            282\n",
            "Volvo            281\n",
            "GMC              270\n",
            "Acura            252\n",
            "Mazda            239\n",
            "Subaru           214\n",
            "Hyundai          214\n",
            "Lexus            202\n",
            "Lincoln          156\n",
            "Land Rover       143\n",
            "Porsche          136\n",
            "Mitsubishi       125\n",
            "Buick            125\n",
            "Saab             111\n",
            "Kia              109\n",
            "Chrysler         108\n",
            "Suzuki            99\n",
            "Aston Martin      93\n",
            "Pontiac           77\n",
            "Bentley           74\n",
            "Ferrari           68\n",
            "Maserati          58\n",
            "Lamborghini       52\n",
            "Scion             48\n",
            "Plymouth          39\n",
            "FIAT              38\n",
            "Rolls-Royce       31\n",
            "Lotus             29\n",
            "HUMMER            17\n",
            "Maybach           16\n",
            "Alfa Romeo         5\n",
            "McLaren            5\n",
            "Spyker             3\n",
            "Genesis            3\n",
            "Oldsmobile         3\n",
            "Bugatti            3\n",
            "Name: Make, dtype: int64\n",
            "\n",
            "Model Distribution\n",
            "F-150             122\n",
            "Silverado 1500    114\n",
            "GTI                76\n",
            "Beetle             75\n",
            "Corvette           60\n",
            "                 ... \n",
            "LFA                 1\n",
            "Lancer              1\n",
            "Intrepid            1\n",
            "Horizon             1\n",
            "Zephyr              1\n",
            "Name: Model, Length: 713, dtype: int64\n",
            "\n",
            "Engine Fuel Type Distribution\n",
            "regular unleaded                                3507\n",
            "premium unleaded (required)                     1973\n",
            "premium unleaded (recommended)                  1477\n",
            "flex-fuel (unleaded/E85)                         881\n",
            "diesel                                           153\n",
            "flex-fuel (premium unleaded required/E85)         54\n",
            "flex-fuel (premium unleaded recommended/E85)      26\n",
            "electric                                          13\n",
            "Name: Engine Fuel Type, dtype: int64\n",
            "\n",
            "Transmission Type Distribution\n",
            "AUTOMATIC           5761\n",
            "MANUAL              1695\n",
            "AUTOMATED_MANUAL     610\n",
            "DIRECT_DRIVE          15\n",
            "UNKNOWN                3\n",
            "Name: Transmission Type, dtype: int64\n",
            "\n",
            "Driven_Wheels Distribution\n",
            "front wheel drive    2879\n",
            "rear wheel drive     2401\n",
            "all wheel drive      2158\n",
            "four wheel drive      646\n",
            "Name: Driven_Wheels, dtype: int64\n",
            "\n",
            "Market Category Distribution\n",
            "Crossover                                          1103\n",
            "Flex Fuel                                           872\n",
            "Luxury                                              851\n",
            "Luxury,Performance                                  673\n",
            "Hatchback                                           614\n",
            "                                                   ... \n",
            "Crossover,Exotic,Luxury,High-Performance              1\n",
            "Crossover,Exotic,Luxury,Performance                   1\n",
            "Exotic,Luxury,High-Performance,Hybrid                 1\n",
            "Flex Fuel,Factory Tuner,Luxury,High-Performance       1\n",
            "Performance,Hybrid                                    1\n",
            "Name: Market Category, Length: 70, dtype: int64\n",
            "\n",
            "Vehicle Size Distribution\n",
            "Midsize    3187\n",
            "Compact    3039\n",
            "Large      1858\n",
            "Name: Vehicle Size, dtype: int64\n",
            "\n",
            "Vehicle Style Distribution\n",
            "4dr SUV                2093\n",
            "Sedan                  1909\n",
            "Coupe                   939\n",
            "4dr Hatchback           678\n",
            "Convertible             670\n",
            "2dr Hatchback           503\n",
            "Wagon                   357\n",
            "Crew Cab Pickup         344\n",
            "Extended Cab Pickup     191\n",
            "Regular Cab Pickup      176\n",
            "Passenger Van           100\n",
            "Passenger Minivan        65\n",
            "Cargo Van                34\n",
            "2dr SUV                  14\n",
            "Convertible SUV           6\n",
            "Cargo Minivan             5\n",
            "Name: Vehicle Style, dtype: int64\n",
            "\n"
          ]
        }
      ]
    },
    {
      "cell_type": "markdown",
      "source": [
        "Название моделей из признаков можно убрать, т.к. их количество слишком велико. Также уберём поле *Market Category* по схожей причине."
      ],
      "metadata": {
        "id": "WDSzq3r6BwTM"
      }
    },
    {
      "cell_type": "code",
      "source": [
        "data1 = data1.drop(columns=['Model'])\n",
        "cat_cols1.remove('Model')\n",
        "\n",
        "data1 = data1.drop(columns=['Market Category'])\n",
        "cat_cols1.remove('Market Category')\n",
        "\n",
        "data2 = data2.drop(columns=['Model'])\n",
        "cat_cols2.remove('Model')\n",
        "\n",
        "data2 = data2.drop(columns=['Market Category'])\n",
        "cat_cols2.remove('Market Category')"
      ],
      "metadata": {
        "id": "KuydDqM2CM3g"
      },
      "execution_count": null,
      "outputs": []
    },
    {
      "cell_type": "markdown",
      "source": [
        "Проанализируем распределение числовых признаков"
      ],
      "metadata": {
        "id": "mK_j_1KMIu4M"
      }
    },
    {
      "cell_type": "code",
      "source": [
        "for col in num_cols1:\n",
        "    print(f\"{col} Distribution\")\n",
        "    print(data1[col].value_counts())\n",
        "    print()"
      ],
      "metadata": {
        "colab": {
          "base_uri": "https://localhost:8080/"
        },
        "id": "Z4_tZBaHI0JG",
        "outputId": "254f610c-7401-4ccd-f6eb-58b9d9fef7b1"
      },
      "execution_count": null,
      "outputs": [
        {
          "output_type": "stream",
          "name": "stdout",
          "text": [
            "Year Distribution\n",
            "2015    1681\n",
            "2016    1672\n",
            "2017    1264\n",
            "2014     501\n",
            "2013     314\n",
            "2012     309\n",
            "2009     284\n",
            "2007     233\n",
            "2011     230\n",
            "2010     229\n",
            "2008     205\n",
            "2006     111\n",
            "2005      92\n",
            "2004      91\n",
            "1993      91\n",
            "2003      88\n",
            "1992      85\n",
            "2002      71\n",
            "2001      66\n",
            "2000      60\n",
            "1994      60\n",
            "1997      60\n",
            "1991      59\n",
            "1995      57\n",
            "1996      56\n",
            "1999      45\n",
            "1990      38\n",
            "1998      32\n",
            "Name: Year, dtype: int64\n",
            "\n",
            "Engine HP Distribution\n",
            "200.0    281\n",
            "240.0    261\n",
            "210.0    259\n",
            "285.0    213\n",
            "300.0    172\n",
            "        ... \n",
            "66.0       1\n",
            "424.0      1\n",
            "661.0      1\n",
            "451.0      1\n",
            "535.0      1\n",
            "Name: Engine HP, Length: 327, dtype: int64\n",
            "\n",
            "Engine Cylinders Distribution\n",
            "4.0     3117\n",
            "6.0     2913\n",
            "8.0     1545\n",
            "12.0     229\n",
            "5.0      170\n",
            "10.0      68\n",
            "3.0       26\n",
            "0.0       13\n",
            "16.0       3\n",
            "Name: Engine Cylinders, dtype: int64\n",
            "\n",
            "Number of Doors Distribution\n",
            "4.0    5627\n",
            "2.0    2279\n",
            "3.0     178\n",
            "Name: Number of Doors, dtype: int64\n",
            "\n",
            "highway MPG Distribution\n",
            "24     674\n",
            "25     579\n",
            "23     579\n",
            "26     577\n",
            "22     537\n",
            "28     532\n",
            "31     454\n",
            "29     414\n",
            "30     385\n",
            "27     378\n",
            "33     324\n",
            "21     320\n",
            "19     311\n",
            "32     239\n",
            "20     216\n",
            "17     212\n",
            "34     193\n",
            "18     185\n",
            "16     140\n",
            "35     114\n",
            "36      99\n",
            "37      84\n",
            "15      79\n",
            "40      77\n",
            "38      71\n",
            "39      64\n",
            "41      35\n",
            "42      33\n",
            "14      31\n",
            "44      29\n",
            "43      23\n",
            "46      21\n",
            "48      16\n",
            "45      14\n",
            "50      10\n",
            "47       7\n",
            "109      6\n",
            "13       5\n",
            "53       5\n",
            "12       4\n",
            "111      3\n",
            "82       3\n",
            "106      1\n",
            "354      1\n",
            "Name: highway MPG, dtype: int64\n",
            "\n",
            "city mpg Distribution\n",
            "17     918\n",
            "18     751\n",
            "16     720\n",
            "20     656\n",
            "19     588\n",
            "15     578\n",
            "22     453\n",
            "21     443\n",
            "13     382\n",
            "14     376\n",
            "23     331\n",
            "24     312\n",
            "25     273\n",
            "12     184\n",
            "11     161\n",
            "27     139\n",
            "26     130\n",
            "28      90\n",
            "31      89\n",
            "30      85\n",
            "10      72\n",
            "29      58\n",
            "9       33\n",
            "41      25\n",
            "32      20\n",
            "36      20\n",
            "34      20\n",
            "40      19\n",
            "44      18\n",
            "42      17\n",
            "35      13\n",
            "53      13\n",
            "43      13\n",
            "33      11\n",
            "54      10\n",
            "8        9\n",
            "37       8\n",
            "39       7\n",
            "51       6\n",
            "50       6\n",
            "128      6\n",
            "49       4\n",
            "137      3\n",
            "85       3\n",
            "55       3\n",
            "47       2\n",
            "58       2\n",
            "38       2\n",
            "129      1\n",
            "7        1\n",
            "Name: city mpg, dtype: int64\n",
            "\n",
            "Popularity Distribution\n",
            "1385    614\n",
            "873     581\n",
            "5657    492\n",
            "1624    397\n",
            "617     352\n",
            "3916    334\n",
            "190     330\n",
            "3105    328\n",
            "1851    320\n",
            "2009    308\n",
            "2031    300\n",
            "2202    282\n",
            "870     281\n",
            "549     270\n",
            "204     252\n",
            "586     239\n",
            "640     214\n",
            "1439    214\n",
            "454     202\n",
            "61      156\n",
            "258     143\n",
            "1715    136\n",
            "436     125\n",
            "155     125\n",
            "376     111\n",
            "1720    109\n",
            "1013    108\n",
            "481      99\n",
            "259      93\n",
            "210      77\n",
            "520      74\n",
            "2774     68\n",
            "238      58\n",
            "1158     52\n",
            "105      48\n",
            "535      39\n",
            "819      38\n",
            "86       31\n",
            "613      29\n",
            "130      17\n",
            "67       16\n",
            "113       5\n",
            "416       5\n",
            "2         3\n",
            "21        3\n",
            "26        3\n",
            "820       3\n",
            "Name: Popularity, dtype: int64\n",
            "\n"
          ]
        }
      ]
    },
    {
      "cell_type": "markdown",
      "source": [
        "От признака *Engine HP* можно также отказаться из-за его сильного разброса"
      ],
      "metadata": {
        "id": "MF4X7HOdJVs1"
      }
    },
    {
      "cell_type": "code",
      "source": [
        "data1 = data1.drop(columns=['Engine HP'])\n",
        "num_cols1.remove('Engine HP')\n",
        "\n",
        "data2 = data2.drop(columns=['Engine HP'])\n",
        "num_cols2.remove('Engine HP')"
      ],
      "metadata": {
        "id": "L25P4VgPJ5lM"
      },
      "execution_count": null,
      "outputs": []
    },
    {
      "cell_type": "markdown",
      "source": [
        "Также можно добавить параметр, отражающий отношение расхода топлива на шоссе к расходу топлива в городе"
      ],
      "metadata": {
        "id": "r6rCgPOKjtwz"
      }
    },
    {
      "cell_type": "code",
      "source": [
        "data1['MinMax Fuel coef'] = data1['highway MPG'] / data1['city mpg']\n",
        "num_cols1.append('MinMax Fuel coef')\n",
        "\n",
        "data2['MinMax Fuel coef'] = data2['highway MPG'] / data2['city mpg']\n",
        "num_cols2.append('MinMax Fuel coef')\n",
        "\n",
        "data1"
      ],
      "metadata": {
        "colab": {
          "base_uri": "https://localhost:8080/",
          "height": 614
        },
        "id": "bhD7bL3DjtiD",
        "outputId": "93f1b2b9-cdcc-454c-cb98-8a70659e8915"
      },
      "execution_count": null,
      "outputs": [
        {
          "output_type": "execute_result",
          "data": {
            "text/plain": [
              "       Year  Engine Cylinders  Number of Doors  highway MPG  city mpg  \\\n",
              "0      2011               6.0              2.0           26        19   \n",
              "1      2011               6.0              2.0           28        19   \n",
              "2      2011               6.0              2.0           28        20   \n",
              "3      2011               6.0              2.0           28        18   \n",
              "4      2011               6.0              2.0           28        18   \n",
              "...     ...               ...              ...          ...       ...   \n",
              "11909  2012               6.0              4.0           23        16   \n",
              "11910  2012               6.0              4.0           23        16   \n",
              "11911  2012               6.0              4.0           23        16   \n",
              "11912  2013               6.0              4.0           23        16   \n",
              "11913  2006               6.0              4.0           26        17   \n",
              "\n",
              "       Popularity     Make                Engine Fuel Type Transmission Type  \\\n",
              "0            3916      BMW     premium unleaded (required)            MANUAL   \n",
              "1            3916      BMW     premium unleaded (required)            MANUAL   \n",
              "2            3916      BMW     premium unleaded (required)            MANUAL   \n",
              "3            3916      BMW     premium unleaded (required)            MANUAL   \n",
              "4            3916      BMW     premium unleaded (required)            MANUAL   \n",
              "...           ...      ...                             ...               ...   \n",
              "11909         204    Acura     premium unleaded (required)         AUTOMATIC   \n",
              "11910         204    Acura     premium unleaded (required)         AUTOMATIC   \n",
              "11911         204    Acura     premium unleaded (required)         AUTOMATIC   \n",
              "11912         204    Acura  premium unleaded (recommended)         AUTOMATIC   \n",
              "11913          61  Lincoln                regular unleaded         AUTOMATIC   \n",
              "\n",
              "           Driven_Wheels Vehicle Size  Vehicle Style   MSRP  MinMax Fuel coef  \n",
              "0       rear wheel drive      Compact          Coupe  46135          1.368421  \n",
              "1       rear wheel drive      Compact    Convertible  40650          1.473684  \n",
              "2       rear wheel drive      Compact          Coupe  36350          1.400000  \n",
              "3       rear wheel drive      Compact          Coupe  29450          1.555556  \n",
              "4       rear wheel drive      Compact    Convertible  34500          1.555556  \n",
              "...                  ...          ...            ...    ...               ...  \n",
              "11909    all wheel drive      Midsize  4dr Hatchback  46120          1.437500  \n",
              "11910    all wheel drive      Midsize  4dr Hatchback  56670          1.437500  \n",
              "11911    all wheel drive      Midsize  4dr Hatchback  50620          1.437500  \n",
              "11912    all wheel drive      Midsize  4dr Hatchback  50920          1.437500  \n",
              "11913  front wheel drive      Midsize          Sedan  28995          1.529412  \n",
              "\n",
              "[8084 rows x 14 columns]"
            ],
            "text/html": [
              "\n",
              "  <div id=\"df-049be868-ca98-443b-aecc-2a1957568ad1\" class=\"colab-df-container\">\n",
              "    <div>\n",
              "<style scoped>\n",
              "    .dataframe tbody tr th:only-of-type {\n",
              "        vertical-align: middle;\n",
              "    }\n",
              "\n",
              "    .dataframe tbody tr th {\n",
              "        vertical-align: top;\n",
              "    }\n",
              "\n",
              "    .dataframe thead th {\n",
              "        text-align: right;\n",
              "    }\n",
              "</style>\n",
              "<table border=\"1\" class=\"dataframe\">\n",
              "  <thead>\n",
              "    <tr style=\"text-align: right;\">\n",
              "      <th></th>\n",
              "      <th>Year</th>\n",
              "      <th>Engine Cylinders</th>\n",
              "      <th>Number of Doors</th>\n",
              "      <th>highway MPG</th>\n",
              "      <th>city mpg</th>\n",
              "      <th>Popularity</th>\n",
              "      <th>Make</th>\n",
              "      <th>Engine Fuel Type</th>\n",
              "      <th>Transmission Type</th>\n",
              "      <th>Driven_Wheels</th>\n",
              "      <th>Vehicle Size</th>\n",
              "      <th>Vehicle Style</th>\n",
              "      <th>MSRP</th>\n",
              "      <th>MinMax Fuel coef</th>\n",
              "    </tr>\n",
              "  </thead>\n",
              "  <tbody>\n",
              "    <tr>\n",
              "      <th>0</th>\n",
              "      <td>2011</td>\n",
              "      <td>6.0</td>\n",
              "      <td>2.0</td>\n",
              "      <td>26</td>\n",
              "      <td>19</td>\n",
              "      <td>3916</td>\n",
              "      <td>BMW</td>\n",
              "      <td>premium unleaded (required)</td>\n",
              "      <td>MANUAL</td>\n",
              "      <td>rear wheel drive</td>\n",
              "      <td>Compact</td>\n",
              "      <td>Coupe</td>\n",
              "      <td>46135</td>\n",
              "      <td>1.368421</td>\n",
              "    </tr>\n",
              "    <tr>\n",
              "      <th>1</th>\n",
              "      <td>2011</td>\n",
              "      <td>6.0</td>\n",
              "      <td>2.0</td>\n",
              "      <td>28</td>\n",
              "      <td>19</td>\n",
              "      <td>3916</td>\n",
              "      <td>BMW</td>\n",
              "      <td>premium unleaded (required)</td>\n",
              "      <td>MANUAL</td>\n",
              "      <td>rear wheel drive</td>\n",
              "      <td>Compact</td>\n",
              "      <td>Convertible</td>\n",
              "      <td>40650</td>\n",
              "      <td>1.473684</td>\n",
              "    </tr>\n",
              "    <tr>\n",
              "      <th>2</th>\n",
              "      <td>2011</td>\n",
              "      <td>6.0</td>\n",
              "      <td>2.0</td>\n",
              "      <td>28</td>\n",
              "      <td>20</td>\n",
              "      <td>3916</td>\n",
              "      <td>BMW</td>\n",
              "      <td>premium unleaded (required)</td>\n",
              "      <td>MANUAL</td>\n",
              "      <td>rear wheel drive</td>\n",
              "      <td>Compact</td>\n",
              "      <td>Coupe</td>\n",
              "      <td>36350</td>\n",
              "      <td>1.400000</td>\n",
              "    </tr>\n",
              "    <tr>\n",
              "      <th>3</th>\n",
              "      <td>2011</td>\n",
              "      <td>6.0</td>\n",
              "      <td>2.0</td>\n",
              "      <td>28</td>\n",
              "      <td>18</td>\n",
              "      <td>3916</td>\n",
              "      <td>BMW</td>\n",
              "      <td>premium unleaded (required)</td>\n",
              "      <td>MANUAL</td>\n",
              "      <td>rear wheel drive</td>\n",
              "      <td>Compact</td>\n",
              "      <td>Coupe</td>\n",
              "      <td>29450</td>\n",
              "      <td>1.555556</td>\n",
              "    </tr>\n",
              "    <tr>\n",
              "      <th>4</th>\n",
              "      <td>2011</td>\n",
              "      <td>6.0</td>\n",
              "      <td>2.0</td>\n",
              "      <td>28</td>\n",
              "      <td>18</td>\n",
              "      <td>3916</td>\n",
              "      <td>BMW</td>\n",
              "      <td>premium unleaded (required)</td>\n",
              "      <td>MANUAL</td>\n",
              "      <td>rear wheel drive</td>\n",
              "      <td>Compact</td>\n",
              "      <td>Convertible</td>\n",
              "      <td>34500</td>\n",
              "      <td>1.555556</td>\n",
              "    </tr>\n",
              "    <tr>\n",
              "      <th>...</th>\n",
              "      <td>...</td>\n",
              "      <td>...</td>\n",
              "      <td>...</td>\n",
              "      <td>...</td>\n",
              "      <td>...</td>\n",
              "      <td>...</td>\n",
              "      <td>...</td>\n",
              "      <td>...</td>\n",
              "      <td>...</td>\n",
              "      <td>...</td>\n",
              "      <td>...</td>\n",
              "      <td>...</td>\n",
              "      <td>...</td>\n",
              "      <td>...</td>\n",
              "    </tr>\n",
              "    <tr>\n",
              "      <th>11909</th>\n",
              "      <td>2012</td>\n",
              "      <td>6.0</td>\n",
              "      <td>4.0</td>\n",
              "      <td>23</td>\n",
              "      <td>16</td>\n",
              "      <td>204</td>\n",
              "      <td>Acura</td>\n",
              "      <td>premium unleaded (required)</td>\n",
              "      <td>AUTOMATIC</td>\n",
              "      <td>all wheel drive</td>\n",
              "      <td>Midsize</td>\n",
              "      <td>4dr Hatchback</td>\n",
              "      <td>46120</td>\n",
              "      <td>1.437500</td>\n",
              "    </tr>\n",
              "    <tr>\n",
              "      <th>11910</th>\n",
              "      <td>2012</td>\n",
              "      <td>6.0</td>\n",
              "      <td>4.0</td>\n",
              "      <td>23</td>\n",
              "      <td>16</td>\n",
              "      <td>204</td>\n",
              "      <td>Acura</td>\n",
              "      <td>premium unleaded (required)</td>\n",
              "      <td>AUTOMATIC</td>\n",
              "      <td>all wheel drive</td>\n",
              "      <td>Midsize</td>\n",
              "      <td>4dr Hatchback</td>\n",
              "      <td>56670</td>\n",
              "      <td>1.437500</td>\n",
              "    </tr>\n",
              "    <tr>\n",
              "      <th>11911</th>\n",
              "      <td>2012</td>\n",
              "      <td>6.0</td>\n",
              "      <td>4.0</td>\n",
              "      <td>23</td>\n",
              "      <td>16</td>\n",
              "      <td>204</td>\n",
              "      <td>Acura</td>\n",
              "      <td>premium unleaded (required)</td>\n",
              "      <td>AUTOMATIC</td>\n",
              "      <td>all wheel drive</td>\n",
              "      <td>Midsize</td>\n",
              "      <td>4dr Hatchback</td>\n",
              "      <td>50620</td>\n",
              "      <td>1.437500</td>\n",
              "    </tr>\n",
              "    <tr>\n",
              "      <th>11912</th>\n",
              "      <td>2013</td>\n",
              "      <td>6.0</td>\n",
              "      <td>4.0</td>\n",
              "      <td>23</td>\n",
              "      <td>16</td>\n",
              "      <td>204</td>\n",
              "      <td>Acura</td>\n",
              "      <td>premium unleaded (recommended)</td>\n",
              "      <td>AUTOMATIC</td>\n",
              "      <td>all wheel drive</td>\n",
              "      <td>Midsize</td>\n",
              "      <td>4dr Hatchback</td>\n",
              "      <td>50920</td>\n",
              "      <td>1.437500</td>\n",
              "    </tr>\n",
              "    <tr>\n",
              "      <th>11913</th>\n",
              "      <td>2006</td>\n",
              "      <td>6.0</td>\n",
              "      <td>4.0</td>\n",
              "      <td>26</td>\n",
              "      <td>17</td>\n",
              "      <td>61</td>\n",
              "      <td>Lincoln</td>\n",
              "      <td>regular unleaded</td>\n",
              "      <td>AUTOMATIC</td>\n",
              "      <td>front wheel drive</td>\n",
              "      <td>Midsize</td>\n",
              "      <td>Sedan</td>\n",
              "      <td>28995</td>\n",
              "      <td>1.529412</td>\n",
              "    </tr>\n",
              "  </tbody>\n",
              "</table>\n",
              "<p>8084 rows × 14 columns</p>\n",
              "</div>\n",
              "    <div class=\"colab-df-buttons\">\n",
              "\n",
              "  <div class=\"colab-df-container\">\n",
              "    <button class=\"colab-df-convert\" onclick=\"convertToInteractive('df-049be868-ca98-443b-aecc-2a1957568ad1')\"\n",
              "            title=\"Convert this dataframe to an interactive table.\"\n",
              "            style=\"display:none;\">\n",
              "\n",
              "  <svg xmlns=\"http://www.w3.org/2000/svg\" height=\"24px\" viewBox=\"0 -960 960 960\">\n",
              "    <path d=\"M120-120v-720h720v720H120Zm60-500h600v-160H180v160Zm220 220h160v-160H400v160Zm0 220h160v-160H400v160ZM180-400h160v-160H180v160Zm440 0h160v-160H620v160ZM180-180h160v-160H180v160Zm440 0h160v-160H620v160Z\"/>\n",
              "  </svg>\n",
              "    </button>\n",
              "\n",
              "  <style>\n",
              "    .colab-df-container {\n",
              "      display:flex;\n",
              "      gap: 12px;\n",
              "    }\n",
              "\n",
              "    .colab-df-convert {\n",
              "      background-color: #E8F0FE;\n",
              "      border: none;\n",
              "      border-radius: 50%;\n",
              "      cursor: pointer;\n",
              "      display: none;\n",
              "      fill: #1967D2;\n",
              "      height: 32px;\n",
              "      padding: 0 0 0 0;\n",
              "      width: 32px;\n",
              "    }\n",
              "\n",
              "    .colab-df-convert:hover {\n",
              "      background-color: #E2EBFA;\n",
              "      box-shadow: 0px 1px 2px rgba(60, 64, 67, 0.3), 0px 1px 3px 1px rgba(60, 64, 67, 0.15);\n",
              "      fill: #174EA6;\n",
              "    }\n",
              "\n",
              "    .colab-df-buttons div {\n",
              "      margin-bottom: 4px;\n",
              "    }\n",
              "\n",
              "    [theme=dark] .colab-df-convert {\n",
              "      background-color: #3B4455;\n",
              "      fill: #D2E3FC;\n",
              "    }\n",
              "\n",
              "    [theme=dark] .colab-df-convert:hover {\n",
              "      background-color: #434B5C;\n",
              "      box-shadow: 0px 1px 3px 1px rgba(0, 0, 0, 0.15);\n",
              "      filter: drop-shadow(0px 1px 2px rgba(0, 0, 0, 0.3));\n",
              "      fill: #FFFFFF;\n",
              "    }\n",
              "  </style>\n",
              "\n",
              "    <script>\n",
              "      const buttonEl =\n",
              "        document.querySelector('#df-049be868-ca98-443b-aecc-2a1957568ad1 button.colab-df-convert');\n",
              "      buttonEl.style.display =\n",
              "        google.colab.kernel.accessAllowed ? 'block' : 'none';\n",
              "\n",
              "      async function convertToInteractive(key) {\n",
              "        const element = document.querySelector('#df-049be868-ca98-443b-aecc-2a1957568ad1');\n",
              "        const dataTable =\n",
              "          await google.colab.kernel.invokeFunction('convertToInteractive',\n",
              "                                                    [key], {});\n",
              "        if (!dataTable) return;\n",
              "\n",
              "        const docLinkHtml = 'Like what you see? Visit the ' +\n",
              "          '<a target=\"_blank\" href=https://colab.research.google.com/notebooks/data_table.ipynb>data table notebook</a>'\n",
              "          + ' to learn more about interactive tables.';\n",
              "        element.innerHTML = '';\n",
              "        dataTable['output_type'] = 'display_data';\n",
              "        await google.colab.output.renderOutput(dataTable, element);\n",
              "        const docLink = document.createElement('div');\n",
              "        docLink.innerHTML = docLinkHtml;\n",
              "        element.appendChild(docLink);\n",
              "      }\n",
              "    </script>\n",
              "  </div>\n",
              "\n",
              "\n",
              "<div id=\"df-94ce1f08-7e9a-42e3-a1fc-6aedd264f984\">\n",
              "  <button class=\"colab-df-quickchart\" onclick=\"quickchart('df-94ce1f08-7e9a-42e3-a1fc-6aedd264f984')\"\n",
              "            title=\"Suggest charts\"\n",
              "            style=\"display:none;\">\n",
              "\n",
              "<svg xmlns=\"http://www.w3.org/2000/svg\" height=\"24px\"viewBox=\"0 0 24 24\"\n",
              "     width=\"24px\">\n",
              "    <g>\n",
              "        <path d=\"M19 3H5c-1.1 0-2 .9-2 2v14c0 1.1.9 2 2 2h14c1.1 0 2-.9 2-2V5c0-1.1-.9-2-2-2zM9 17H7v-7h2v7zm4 0h-2V7h2v10zm4 0h-2v-4h2v4z\"/>\n",
              "    </g>\n",
              "</svg>\n",
              "  </button>\n",
              "\n",
              "<style>\n",
              "  .colab-df-quickchart {\n",
              "      --bg-color: #E8F0FE;\n",
              "      --fill-color: #1967D2;\n",
              "      --hover-bg-color: #E2EBFA;\n",
              "      --hover-fill-color: #174EA6;\n",
              "      --disabled-fill-color: #AAA;\n",
              "      --disabled-bg-color: #DDD;\n",
              "  }\n",
              "\n",
              "  [theme=dark] .colab-df-quickchart {\n",
              "      --bg-color: #3B4455;\n",
              "      --fill-color: #D2E3FC;\n",
              "      --hover-bg-color: #434B5C;\n",
              "      --hover-fill-color: #FFFFFF;\n",
              "      --disabled-bg-color: #3B4455;\n",
              "      --disabled-fill-color: #666;\n",
              "  }\n",
              "\n",
              "  .colab-df-quickchart {\n",
              "    background-color: var(--bg-color);\n",
              "    border: none;\n",
              "    border-radius: 50%;\n",
              "    cursor: pointer;\n",
              "    display: none;\n",
              "    fill: var(--fill-color);\n",
              "    height: 32px;\n",
              "    padding: 0;\n",
              "    width: 32px;\n",
              "  }\n",
              "\n",
              "  .colab-df-quickchart:hover {\n",
              "    background-color: var(--hover-bg-color);\n",
              "    box-shadow: 0 1px 2px rgba(60, 64, 67, 0.3), 0 1px 3px 1px rgba(60, 64, 67, 0.15);\n",
              "    fill: var(--button-hover-fill-color);\n",
              "  }\n",
              "\n",
              "  .colab-df-quickchart-complete:disabled,\n",
              "  .colab-df-quickchart-complete:disabled:hover {\n",
              "    background-color: var(--disabled-bg-color);\n",
              "    fill: var(--disabled-fill-color);\n",
              "    box-shadow: none;\n",
              "  }\n",
              "\n",
              "  .colab-df-spinner {\n",
              "    border: 2px solid var(--fill-color);\n",
              "    border-color: transparent;\n",
              "    border-bottom-color: var(--fill-color);\n",
              "    animation:\n",
              "      spin 1s steps(1) infinite;\n",
              "  }\n",
              "\n",
              "  @keyframes spin {\n",
              "    0% {\n",
              "      border-color: transparent;\n",
              "      border-bottom-color: var(--fill-color);\n",
              "      border-left-color: var(--fill-color);\n",
              "    }\n",
              "    20% {\n",
              "      border-color: transparent;\n",
              "      border-left-color: var(--fill-color);\n",
              "      border-top-color: var(--fill-color);\n",
              "    }\n",
              "    30% {\n",
              "      border-color: transparent;\n",
              "      border-left-color: var(--fill-color);\n",
              "      border-top-color: var(--fill-color);\n",
              "      border-right-color: var(--fill-color);\n",
              "    }\n",
              "    40% {\n",
              "      border-color: transparent;\n",
              "      border-right-color: var(--fill-color);\n",
              "      border-top-color: var(--fill-color);\n",
              "    }\n",
              "    60% {\n",
              "      border-color: transparent;\n",
              "      border-right-color: var(--fill-color);\n",
              "    }\n",
              "    80% {\n",
              "      border-color: transparent;\n",
              "      border-right-color: var(--fill-color);\n",
              "      border-bottom-color: var(--fill-color);\n",
              "    }\n",
              "    90% {\n",
              "      border-color: transparent;\n",
              "      border-bottom-color: var(--fill-color);\n",
              "    }\n",
              "  }\n",
              "</style>\n",
              "\n",
              "  <script>\n",
              "    async function quickchart(key) {\n",
              "      const quickchartButtonEl =\n",
              "        document.querySelector('#' + key + ' button');\n",
              "      quickchartButtonEl.disabled = true;  // To prevent multiple clicks.\n",
              "      quickchartButtonEl.classList.add('colab-df-spinner');\n",
              "      try {\n",
              "        const charts = await google.colab.kernel.invokeFunction(\n",
              "            'suggestCharts', [key], {});\n",
              "      } catch (error) {\n",
              "        console.error('Error during call to suggestCharts:', error);\n",
              "      }\n",
              "      quickchartButtonEl.classList.remove('colab-df-spinner');\n",
              "      quickchartButtonEl.classList.add('colab-df-quickchart-complete');\n",
              "    }\n",
              "    (() => {\n",
              "      let quickchartButtonEl =\n",
              "        document.querySelector('#df-94ce1f08-7e9a-42e3-a1fc-6aedd264f984 button');\n",
              "      quickchartButtonEl.style.display =\n",
              "        google.colab.kernel.accessAllowed ? 'block' : 'none';\n",
              "    })();\n",
              "  </script>\n",
              "</div>\n",
              "    </div>\n",
              "  </div>\n"
            ]
          },
          "metadata": {},
          "execution_count": 42
        }
      ]
    },
    {
      "cell_type": "markdown",
      "source": [
        "Построение гистограммы по данным"
      ],
      "metadata": {
        "id": "OzrRKAgoCNi7"
      }
    },
    {
      "cell_type": "code",
      "source": [
        "data1.hist(column=num_cols1+cat_cols1+[target_col1], figsize=(14, 10))"
      ],
      "metadata": {
        "colab": {
          "base_uri": "https://localhost:8080/",
          "height": 1000
        },
        "id": "EzvN4rKY-AlQ",
        "outputId": "c93202bd-358c-4086-bac7-a618191a29b1"
      },
      "execution_count": null,
      "outputs": [
        {
          "output_type": "execute_result",
          "data": {
            "text/plain": [
              "array([[<Axes: title={'center': 'Year'}>,\n",
              "        <Axes: title={'center': 'Engine Cylinders'}>,\n",
              "        <Axes: title={'center': 'Number of Doors'}>],\n",
              "       [<Axes: title={'center': 'highway MPG'}>,\n",
              "        <Axes: title={'center': 'city mpg'}>,\n",
              "        <Axes: title={'center': 'Popularity'}>],\n",
              "       [<Axes: title={'center': 'MinMax Fuel coef'}>,\n",
              "        <Axes: title={'center': 'MSRP'}>, <Axes: >]], dtype=object)"
            ]
          },
          "metadata": {},
          "execution_count": 43
        },
        {
          "output_type": "display_data",
          "data": {
            "text/plain": [
              "<Figure size 1400x1000 with 9 Axes>"
            ],
            "image/png": "[encoded data removed]"
          },
          "metadata": {}
        }
      ]
    },
    {
      "cell_type": "markdown",
      "source": [
        "##4.b: Сформулировать гипотезы"
      ],
      "metadata": {
        "id": "ugycwXs875bM"
      }
    },
    {
      "cell_type": "markdown",
      "source": [
        "Вероятнее всего, избавление от занулённых значений и некоторых категорий изменит результаты обучения в лучшую сторону. Новый добавленный коэффициент даёт не очень много дополнительной информации, поэтому результат его присутствия нужно будет проверить практически."
      ],
      "metadata": {
        "id": "a7DAMaE30VuI"
      }
    },
    {
      "cell_type": "markdown",
      "source": [
        "##4.с: Преобразовать данные"
      ],
      "metadata": {
        "id": "vHDFAa_T8B4E"
      }
    },
    {
      "cell_type": "markdown",
      "source": [
        "Большая часть преобразований была проделана в пункте 4.a"
      ],
      "metadata": {
        "id": "M57Uq8UT1O3Q"
      }
    },
    {
      "cell_type": "markdown",
      "source": [
        "Добавлю в датафрейм колонки для всех категориальных фичей и обновлю список категориальных фичей"
      ],
      "metadata": {
        "id": "b1DrqxgQLPD8"
      }
    },
    {
      "cell_type": "code",
      "source": [
        "cat_cols1"
      ],
      "metadata": {
        "colab": {
          "base_uri": "https://localhost:8080/"
        },
        "id": "pSqjUtBQK4kb",
        "outputId": "f08c4f73-5f7d-4dce-c4a2-b97f0b9731b4"
      },
      "execution_count": null,
      "outputs": [
        {
          "output_type": "execute_result",
          "data": {
            "text/plain": [
              "['Make',\n",
              " 'Engine Fuel Type',\n",
              " 'Transmission Type',\n",
              " 'Driven_Wheels',\n",
              " 'Vehicle Size',\n",
              " 'Vehicle Style']"
            ]
          },
          "metadata": {},
          "execution_count": 44
        }
      ]
    },
    {
      "cell_type": "code",
      "source": [
        "#Make\n",
        "data11 = pd.get_dummies(data1['Make'])\n",
        "data1 = (data1.drop(columns=['Make'])).join(data11)\n",
        "\n",
        "new_cat = list(data11.columns)\n",
        "cat_cols1.remove('Make')\n",
        "cat_cols1.extend(new_cat)\n",
        "#Engine Fuel Type\n",
        "data11 = pd.get_dummies(data1['Engine Fuel Type'])\n",
        "data1 = (data1.drop(columns=['Engine Fuel Type'])).join(data11)\n",
        "\n",
        "new_cat = list(data11.columns)\n",
        "cat_cols1.remove('Engine Fuel Type')\n",
        "cat_cols1.extend(new_cat)\n",
        "#Transmission Type\n",
        "data11 = pd.get_dummies(data1['Transmission Type'])\n",
        "data1 = (data1.drop(columns=['Transmission Type'])).join(data11)\n",
        "\n",
        "new_cat = list(data11.columns)\n",
        "cat_cols1.remove('Transmission Type')\n",
        "cat_cols1.extend(new_cat)\n",
        "#Driven_Wheels\n",
        "data11 = pd.get_dummies(data1['Driven_Wheels'])\n",
        "data1 = (data1.drop(columns=['Driven_Wheels'])).join(data11)\n",
        "\n",
        "new_cat = list(data11.columns)\n",
        "cat_cols1.remove('Driven_Wheels')\n",
        "cat_cols1.extend(new_cat)\n",
        "#Vehicle Size\n",
        "data11 = pd.get_dummies(data1['Vehicle Size'])\n",
        "data1 = (data1.drop(columns=['Vehicle Size'])).join(data11)\n",
        "\n",
        "new_cat = list(data11.columns)\n",
        "cat_cols1.remove('Vehicle Size')\n",
        "cat_cols1.extend(new_cat)\n",
        "#Vehicle Style\n",
        "data11 = pd.get_dummies(data1['Vehicle Style'])\n",
        "data1 = (data1.drop(columns=['Vehicle Style'])).join(data11)\n",
        "\n",
        "new_cat = list(data11.columns)\n",
        "cat_cols1.remove('Vehicle Style')\n",
        "cat_cols1.extend(new_cat)"
      ],
      "metadata": {
        "id": "Pb58tSS4LVXD"
      },
      "execution_count": null,
      "outputs": []
    },
    {
      "cell_type": "code",
      "source": [
        "data1.head()"
      ],
      "metadata": {
        "colab": {
          "base_uri": "https://localhost:8080/",
          "height": 290
        },
        "id": "gk2E8_VROHHT",
        "outputId": "0483a865-ad7a-413e-ad9f-9d265aa8ebef"
      },
      "execution_count": null,
      "outputs": [
        {
          "output_type": "execute_result",
          "data": {
            "text/plain": [
              "   Year  Engine Cylinders  Number of Doors  highway MPG  city mpg  Popularity  \\\n",
              "0  2011               6.0              2.0           26        19        3916   \n",
              "1  2011               6.0              2.0           28        19        3916   \n",
              "2  2011               6.0              2.0           28        20        3916   \n",
              "3  2011               6.0              2.0           28        18        3916   \n",
              "4  2011               6.0              2.0           28        18        3916   \n",
              "\n",
              "    MSRP  MinMax Fuel coef  Acura  Alfa Romeo  ...  Convertible  \\\n",
              "0  46135          1.368421      0           0  ...            0   \n",
              "1  40650          1.473684      0           0  ...            1   \n",
              "2  36350          1.400000      0           0  ...            0   \n",
              "3  29450          1.555556      0           0  ...            0   \n",
              "4  34500          1.555556      0           0  ...            1   \n",
              "\n",
              "   Convertible SUV  Coupe  Crew Cab Pickup  Extended Cab Pickup  \\\n",
              "0                0      1                0                    0   \n",
              "1                0      0                0                    0   \n",
              "2                0      1                0                    0   \n",
              "3                0      1                0                    0   \n",
              "4                0      0                0                    0   \n",
              "\n",
              "   Passenger Minivan  Passenger Van  Regular Cab Pickup  Sedan  Wagon  \n",
              "0                  0              0                   0      0      0  \n",
              "1                  0              0                   0      0      0  \n",
              "2                  0              0                   0      0      0  \n",
              "3                  0              0                   0      0      0  \n",
              "4                  0              0                   0      0      0  \n",
              "\n",
              "[5 rows x 91 columns]"
            ],
            "text/html": [
              "\n",
              "  <div id=\"df-55c61713-6733-451f-9bd4-b948e3237fc5\" class=\"colab-df-container\">\n",
              "    <div>\n",
              "<style scoped>\n",
              "    .dataframe tbody tr th:only-of-type {\n",
              "        vertical-align: middle;\n",
              "    }\n",
              "\n",
              "    .dataframe tbody tr th {\n",
              "        vertical-align: top;\n",
              "    }\n",
              "\n",
              "    .dataframe thead th {\n",
              "        text-align: right;\n",
              "    }\n",
              "</style>\n",
              "<table border=\"1\" class=\"dataframe\">\n",
              "  <thead>\n",
              "    <tr style=\"text-align: right;\">\n",
              "      <th></th>\n",
              "      <th>Year</th>\n",
              "      <th>Engine Cylinders</th>\n",
              "      <th>Number of Doors</th>\n",
              "      <th>highway MPG</th>\n",
              "      <th>city mpg</th>\n",
              "      <th>Popularity</th>\n",
              "      <th>MSRP</th>\n",
              "      <th>MinMax Fuel coef</th>\n",
              "      <th>Acura</th>\n",
              "      <th>Alfa Romeo</th>\n",
              "      <th>...</th>\n",
              "      <th>Convertible</th>\n",
              "      <th>Convertible SUV</th>\n",
              "      <th>Coupe</th>\n",
              "      <th>Crew Cab Pickup</th>\n",
              "      <th>Extended Cab Pickup</th>\n",
              "      <th>Passenger Minivan</th>\n",
              "      <th>Passenger Van</th>\n",
              "      <th>Regular Cab Pickup</th>\n",
              "      <th>Sedan</th>\n",
              "      <th>Wagon</th>\n",
              "    </tr>\n",
              "  </thead>\n",
              "  <tbody>\n",
              "    <tr>\n",
              "      <th>0</th>\n",
              "      <td>2011</td>\n",
              "      <td>6.0</td>\n",
              "      <td>2.0</td>\n",
              "      <td>26</td>\n",
              "      <td>19</td>\n",
              "      <td>3916</td>\n",
              "      <td>46135</td>\n",
              "      <td>1.368421</td>\n",
              "      <td>0</td>\n",
              "      <td>0</td>\n",
              "      <td>...</td>\n",
              "      <td>0</td>\n",
              "      <td>0</td>\n",
              "      <td>1</td>\n",
              "      <td>0</td>\n",
              "      <td>0</td>\n",
              "      <td>0</td>\n",
              "      <td>0</td>\n",
              "      <td>0</td>\n",
              "      <td>0</td>\n",
              "      <td>0</td>\n",
              "    </tr>\n",
              "    <tr>\n",
              "      <th>1</th>\n",
              "      <td>2011</td>\n",
              "      <td>6.0</td>\n",
              "      <td>2.0</td>\n",
              "      <td>28</td>\n",
              "      <td>19</td>\n",
              "      <td>3916</td>\n",
              "      <td>40650</td>\n",
              "      <td>1.473684</td>\n",
              "      <td>0</td>\n",
              "      <td>0</td>\n",
              "      <td>...</td>\n",
              "      <td>1</td>\n",
              "      <td>0</td>\n",
              "      <td>0</td>\n",
              "      <td>0</td>\n",
              "      <td>0</td>\n",
              "      <td>0</td>\n",
              "      <td>0</td>\n",
              "      <td>0</td>\n",
              "      <td>0</td>\n",
              "      <td>0</td>\n",
              "    </tr>\n",
              "    <tr>\n",
              "      <th>2</th>\n",
              "      <td>2011</td>\n",
              "      <td>6.0</td>\n",
              "      <td>2.0</td>\n",
              "      <td>28</td>\n",
              "      <td>20</td>\n",
              "      <td>3916</td>\n",
              "      <td>36350</td>\n",
              "      <td>1.400000</td>\n",
              "      <td>0</td>\n",
              "      <td>0</td>\n",
              "      <td>...</td>\n",
              "      <td>0</td>\n",
              "      <td>0</td>\n",
              "      <td>1</td>\n",
              "      <td>0</td>\n",
              "      <td>0</td>\n",
              "      <td>0</td>\n",
              "      <td>0</td>\n",
              "      <td>0</td>\n",
              "      <td>0</td>\n",
              "      <td>0</td>\n",
              "    </tr>\n",
              "    <tr>\n",
              "      <th>3</th>\n",
              "      <td>2011</td>\n",
              "      <td>6.0</td>\n",
              "      <td>2.0</td>\n",
              "      <td>28</td>\n",
              "      <td>18</td>\n",
              "      <td>3916</td>\n",
              "      <td>29450</td>\n",
              "      <td>1.555556</td>\n",
              "      <td>0</td>\n",
              "      <td>0</td>\n",
              "      <td>...</td>\n",
              "      <td>0</td>\n",
              "      <td>0</td>\n",
              "      <td>1</td>\n",
              "      <td>0</td>\n",
              "      <td>0</td>\n",
              "      <td>0</td>\n",
              "      <td>0</td>\n",
              "      <td>0</td>\n",
              "      <td>0</td>\n",
              "      <td>0</td>\n",
              "    </tr>\n",
              "    <tr>\n",
              "      <th>4</th>\n",
              "      <td>2011</td>\n",
              "      <td>6.0</td>\n",
              "      <td>2.0</td>\n",
              "      <td>28</td>\n",
              "      <td>18</td>\n",
              "      <td>3916</td>\n",
              "      <td>34500</td>\n",
              "      <td>1.555556</td>\n",
              "      <td>0</td>\n",
              "      <td>0</td>\n",
              "      <td>...</td>\n",
              "      <td>1</td>\n",
              "      <td>0</td>\n",
              "      <td>0</td>\n",
              "      <td>0</td>\n",
              "      <td>0</td>\n",
              "      <td>0</td>\n",
              "      <td>0</td>\n",
              "      <td>0</td>\n",
              "      <td>0</td>\n",
              "      <td>0</td>\n",
              "    </tr>\n",
              "  </tbody>\n",
              "</table>\n",
              "<p>5 rows × 91 columns</p>\n",
              "</div>\n",
              "    <div class=\"colab-df-buttons\">\n",
              "\n",
              "  <div class=\"colab-df-container\">\n",
              "    <button class=\"colab-df-convert\" onclick=\"convertToInteractive('df-55c61713-6733-451f-9bd4-b948e3237fc5')\"\n",
              "            title=\"Convert this dataframe to an interactive table.\"\n",
              "            style=\"display:none;\">\n",
              "\n",
              "  <svg xmlns=\"http://www.w3.org/2000/svg\" height=\"24px\" viewBox=\"0 -960 960 960\">\n",
              "    <path d=\"M120-120v-720h720v720H120Zm60-500h600v-160H180v160Zm220 220h160v-160H400v160Zm0 220h160v-160H400v160ZM180-400h160v-160H180v160Zm440 0h160v-160H620v160ZM180-180h160v-160H180v160Zm440 0h160v-160H620v160Z\"/>\n",
              "  </svg>\n",
              "    </button>\n",
              "\n",
              "  <style>\n",
              "    .colab-df-container {\n",
              "      display:flex;\n",
              "      gap: 12px;\n",
              "    }\n",
              "\n",
              "    .colab-df-convert {\n",
              "      background-color: #E8F0FE;\n",
              "      border: none;\n",
              "      border-radius: 50%;\n",
              "      cursor: pointer;\n",
              "      display: none;\n",
              "      fill: #1967D2;\n",
              "      height: 32px;\n",
              "      padding: 0 0 0 0;\n",
              "      width: 32px;\n",
              "    }\n",
              "\n",
              "    .colab-df-convert:hover {\n",
              "      background-color: #E2EBFA;\n",
              "      box-shadow: 0px 1px 2px rgba(60, 64, 67, 0.3), 0px 1px 3px 1px rgba(60, 64, 67, 0.15);\n",
              "      fill: #174EA6;\n",
              "    }\n",
              "\n",
              "    .colab-df-buttons div {\n",
              "      margin-bottom: 4px;\n",
              "    }\n",
              "\n",
              "    [theme=dark] .colab-df-convert {\n",
              "      background-color: #3B4455;\n",
              "      fill: #D2E3FC;\n",
              "    }\n",
              "\n",
              "    [theme=dark] .colab-df-convert:hover {\n",
              "      background-color: #434B5C;\n",
              "      box-shadow: 0px 1px 3px 1px rgba(0, 0, 0, 0.15);\n",
              "      filter: drop-shadow(0px 1px 2px rgba(0, 0, 0, 0.3));\n",
              "      fill: #FFFFFF;\n",
              "    }\n",
              "  </style>\n",
              "\n",
              "    <script>\n",
              "      const buttonEl =\n",
              "        document.querySelector('#df-55c61713-6733-451f-9bd4-b948e3237fc5 button.colab-df-convert');\n",
              "      buttonEl.style.display =\n",
              "        google.colab.kernel.accessAllowed ? 'block' : 'none';\n",
              "\n",
              "      async function convertToInteractive(key) {\n",
              "        const element = document.querySelector('#df-55c61713-6733-451f-9bd4-b948e3237fc5');\n",
              "        const dataTable =\n",
              "          await google.colab.kernel.invokeFunction('convertToInteractive',\n",
              "                                                    [key], {});\n",
              "        if (!dataTable) return;\n",
              "\n",
              "        const docLinkHtml = 'Like what you see? Visit the ' +\n",
              "          '<a target=\"_blank\" href=https://colab.research.google.com/notebooks/data_table.ipynb>data table notebook</a>'\n",
              "          + ' to learn more about interactive tables.';\n",
              "        element.innerHTML = '';\n",
              "        dataTable['output_type'] = 'display_data';\n",
              "        await google.colab.output.renderOutput(dataTable, element);\n",
              "        const docLink = document.createElement('div');\n",
              "        docLink.innerHTML = docLinkHtml;\n",
              "        element.appendChild(docLink);\n",
              "      }\n",
              "    </script>\n",
              "  </div>\n",
              "\n",
              "\n",
              "<div id=\"df-ff8259bf-38f6-4dc7-aee3-2ce86fd22163\">\n",
              "  <button class=\"colab-df-quickchart\" onclick=\"quickchart('df-ff8259bf-38f6-4dc7-aee3-2ce86fd22163')\"\n",
              "            title=\"Suggest charts\"\n",
              "            style=\"display:none;\">\n",
              "\n",
              "<svg xmlns=\"http://www.w3.org/2000/svg\" height=\"24px\"viewBox=\"0 0 24 24\"\n",
              "     width=\"24px\">\n",
              "    <g>\n",
              "        <path d=\"M19 3H5c-1.1 0-2 .9-2 2v14c0 1.1.9 2 2 2h14c1.1 0 2-.9 2-2V5c0-1.1-.9-2-2-2zM9 17H7v-7h2v7zm4 0h-2V7h2v10zm4 0h-2v-4h2v4z\"/>\n",
              "    </g>\n",
              "</svg>\n",
              "  </button>\n",
              "\n",
              "<style>\n",
              "  .colab-df-quickchart {\n",
              "      --bg-color: #E8F0FE;\n",
              "      --fill-color: #1967D2;\n",
              "      --hover-bg-color: #E2EBFA;\n",
              "      --hover-fill-color: #174EA6;\n",
              "      --disabled-fill-color: #AAA;\n",
              "      --disabled-bg-color: #DDD;\n",
              "  }\n",
              "\n",
              "  [theme=dark] .colab-df-quickchart {\n",
              "      --bg-color: #3B4455;\n",
              "      --fill-color: #D2E3FC;\n",
              "      --hover-bg-color: #434B5C;\n",
              "      --hover-fill-color: #FFFFFF;\n",
              "      --disabled-bg-color: #3B4455;\n",
              "      --disabled-fill-color: #666;\n",
              "  }\n",
              "\n",
              "  .colab-df-quickchart {\n",
              "    background-color: var(--bg-color);\n",
              "    border: none;\n",
              "    border-radius: 50%;\n",
              "    cursor: pointer;\n",
              "    display: none;\n",
              "    fill: var(--fill-color);\n",
              "    height: 32px;\n",
              "    padding: 0;\n",
              "    width: 32px;\n",
              "  }\n",
              "\n",
              "  .colab-df-quickchart:hover {\n",
              "    background-color: var(--hover-bg-color);\n",
              "    box-shadow: 0 1px 2px rgba(60, 64, 67, 0.3), 0 1px 3px 1px rgba(60, 64, 67, 0.15);\n",
              "    fill: var(--button-hover-fill-color);\n",
              "  }\n",
              "\n",
              "  .colab-df-quickchart-complete:disabled,\n",
              "  .colab-df-quickchart-complete:disabled:hover {\n",
              "    background-color: var(--disabled-bg-color);\n",
              "    fill: var(--disabled-fill-color);\n",
              "    box-shadow: none;\n",
              "  }\n",
              "\n",
              "  .colab-df-spinner {\n",
              "    border: 2px solid var(--fill-color);\n",
              "    border-color: transparent;\n",
              "    border-bottom-color: var(--fill-color);\n",
              "    animation:\n",
              "      spin 1s steps(1) infinite;\n",
              "  }\n",
              "\n",
              "  @keyframes spin {\n",
              "    0% {\n",
              "      border-color: transparent;\n",
              "      border-bottom-color: var(--fill-color);\n",
              "      border-left-color: var(--fill-color);\n",
              "    }\n",
              "    20% {\n",
              "      border-color: transparent;\n",
              "      border-left-color: var(--fill-color);\n",
              "      border-top-color: var(--fill-color);\n",
              "    }\n",
              "    30% {\n",
              "      border-color: transparent;\n",
              "      border-left-color: var(--fill-color);\n",
              "      border-top-color: var(--fill-color);\n",
              "      border-right-color: var(--fill-color);\n",
              "    }\n",
              "    40% {\n",
              "      border-color: transparent;\n",
              "      border-right-color: var(--fill-color);\n",
              "      border-top-color: var(--fill-color);\n",
              "    }\n",
              "    60% {\n",
              "      border-color: transparent;\n",
              "      border-right-color: var(--fill-color);\n",
              "    }\n",
              "    80% {\n",
              "      border-color: transparent;\n",
              "      border-right-color: var(--fill-color);\n",
              "      border-bottom-color: var(--fill-color);\n",
              "    }\n",
              "    90% {\n",
              "      border-color: transparent;\n",
              "      border-bottom-color: var(--fill-color);\n",
              "    }\n",
              "  }\n",
              "</style>\n",
              "\n",
              "  <script>\n",
              "    async function quickchart(key) {\n",
              "      const quickchartButtonEl =\n",
              "        document.querySelector('#' + key + ' button');\n",
              "      quickchartButtonEl.disabled = true;  // To prevent multiple clicks.\n",
              "      quickchartButtonEl.classList.add('colab-df-spinner');\n",
              "      try {\n",
              "        const charts = await google.colab.kernel.invokeFunction(\n",
              "            'suggestCharts', [key], {});\n",
              "      } catch (error) {\n",
              "        console.error('Error during call to suggestCharts:', error);\n",
              "      }\n",
              "      quickchartButtonEl.classList.remove('colab-df-spinner');\n",
              "      quickchartButtonEl.classList.add('colab-df-quickchart-complete');\n",
              "    }\n",
              "    (() => {\n",
              "      let quickchartButtonEl =\n",
              "        document.querySelector('#df-ff8259bf-38f6-4dc7-aee3-2ce86fd22163 button');\n",
              "      quickchartButtonEl.style.display =\n",
              "        google.colab.kernel.accessAllowed ? 'block' : 'none';\n",
              "    })();\n",
              "  </script>\n",
              "</div>\n",
              "    </div>\n",
              "  </div>\n"
            ]
          },
          "metadata": {},
          "execution_count": 46
        }
      ]
    },
    {
      "cell_type": "code",
      "source": [
        "cat_cols1"
      ],
      "metadata": {
        "colab": {
          "base_uri": "https://localhost:8080/"
        },
        "id": "I9tzpft7Pl7T",
        "outputId": "192e6567-d9b1-4df9-ff5a-87233e0e3082"
      },
      "execution_count": null,
      "outputs": [
        {
          "output_type": "execute_result",
          "data": {
            "text/plain": [
              "['Acura',\n",
              " 'Alfa Romeo',\n",
              " 'Aston Martin',\n",
              " 'Audi',\n",
              " 'BMW',\n",
              " 'Bentley',\n",
              " 'Bugatti',\n",
              " 'Buick',\n",
              " 'Cadillac',\n",
              " 'Chevrolet',\n",
              " 'Chrysler',\n",
              " 'Dodge',\n",
              " 'FIAT',\n",
              " 'Ferrari',\n",
              " 'Ford',\n",
              " 'GMC',\n",
              " 'Genesis',\n",
              " 'HUMMER',\n",
              " 'Honda',\n",
              " 'Hyundai',\n",
              " 'Infiniti',\n",
              " 'Kia',\n",
              " 'Lamborghini',\n",
              " 'Land Rover',\n",
              " 'Lexus',\n",
              " 'Lincoln',\n",
              " 'Lotus',\n",
              " 'Maserati',\n",
              " 'Maybach',\n",
              " 'Mazda',\n",
              " 'McLaren',\n",
              " 'Mercedes-Benz',\n",
              " 'Mitsubishi',\n",
              " 'Nissan',\n",
              " 'Oldsmobile',\n",
              " 'Plymouth',\n",
              " 'Pontiac',\n",
              " 'Porsche',\n",
              " 'Rolls-Royce',\n",
              " 'Saab',\n",
              " 'Scion',\n",
              " 'Spyker',\n",
              " 'Subaru',\n",
              " 'Suzuki',\n",
              " 'Toyota',\n",
              " 'Volkswagen',\n",
              " 'Volvo',\n",
              " 'diesel',\n",
              " 'electric',\n",
              " 'flex-fuel (premium unleaded recommended/E85)',\n",
              " 'flex-fuel (premium unleaded required/E85)',\n",
              " 'flex-fuel (unleaded/E85)',\n",
              " 'premium unleaded (recommended)',\n",
              " 'premium unleaded (required)',\n",
              " 'regular unleaded',\n",
              " 'AUTOMATED_MANUAL',\n",
              " 'AUTOMATIC',\n",
              " 'DIRECT_DRIVE',\n",
              " 'MANUAL',\n",
              " 'UNKNOWN',\n",
              " 'all wheel drive',\n",
              " 'four wheel drive',\n",
              " 'front wheel drive',\n",
              " 'rear wheel drive',\n",
              " 'Compact',\n",
              " 'Large',\n",
              " 'Midsize',\n",
              " '2dr Hatchback',\n",
              " '2dr SUV',\n",
              " '4dr Hatchback',\n",
              " '4dr SUV',\n",
              " 'Cargo Minivan',\n",
              " 'Cargo Van',\n",
              " 'Convertible',\n",
              " 'Convertible SUV',\n",
              " 'Coupe',\n",
              " 'Crew Cab Pickup',\n",
              " 'Extended Cab Pickup',\n",
              " 'Passenger Minivan',\n",
              " 'Passenger Van',\n",
              " 'Regular Cab Pickup',\n",
              " 'Sedan',\n",
              " 'Wagon']"
            ]
          },
          "metadata": {},
          "execution_count": 47
        }
      ]
    },
    {
      "cell_type": "markdown",
      "source": [
        "Список новых признаков"
      ],
      "metadata": {
        "id": "335WK3oM1jdF"
      }
    },
    {
      "cell_type": "code",
      "source": [
        "cat_cols2"
      ],
      "metadata": {
        "colab": {
          "base_uri": "https://localhost:8080/"
        },
        "id": "SN_-uQS6yJA7",
        "outputId": "a116c536-9aa6-4312-96a6-e466ecb48675"
      },
      "execution_count": null,
      "outputs": [
        {
          "output_type": "execute_result",
          "data": {
            "text/plain": [
              "['Make',\n",
              " 'Engine Fuel Type',\n",
              " 'Transmission Type',\n",
              " 'Driven_Wheels',\n",
              " 'Vehicle Size',\n",
              " 'Vehicle Style']"
            ]
          },
          "metadata": {},
          "execution_count": 48
        }
      ]
    },
    {
      "cell_type": "code",
      "source": [
        "#Make\n",
        "data11 = pd.get_dummies(data2['Make'])\n",
        "data2 = (data2.drop(columns=['Make'])).join(data11)\n",
        "\n",
        "new_cat = list(data11.columns)\n",
        "cat_cols2.remove('Make')\n",
        "cat_cols2.extend(new_cat)\n",
        "#Engine Fuel Type\n",
        "data11 = pd.get_dummies(data2['Engine Fuel Type'])\n",
        "data2 = (data2.drop(columns=['Engine Fuel Type'])).join(data11)\n",
        "\n",
        "new_cat = list(data11.columns)\n",
        "cat_cols2.remove('Engine Fuel Type')\n",
        "cat_cols2.extend(new_cat)\n",
        "#Transmission Type\n",
        "data11 = pd.get_dummies(data2['Transmission Type'])\n",
        "data2 = (data2.drop(columns=['Transmission Type'])).join(data11)\n",
        "\n",
        "new_cat = list(data11.columns)\n",
        "cat_cols2.remove('Transmission Type')\n",
        "cat_cols2.extend(new_cat)\n",
        "#Driven_Wheels\n",
        "data11 = pd.get_dummies(data2['Driven_Wheels'])\n",
        "data2 = (data2.drop(columns=['Driven_Wheels'])).join(data11)\n",
        "\n",
        "new_cat = list(data11.columns)\n",
        "cat_cols2.remove('Driven_Wheels')\n",
        "cat_cols2.extend(new_cat)\n",
        "#Vehicle Size\n",
        "data11 = pd.get_dummies(data2['Vehicle Size'])\n",
        "data2 = (data2.drop(columns=['Vehicle Size'])).join(data11)\n",
        "\n",
        "new_cat = list(data11.columns)\n",
        "cat_cols2.remove('Vehicle Size')\n",
        "cat_cols2.extend(new_cat)\n",
        "#Vehicle Style\n",
        "data11 = pd.get_dummies(data2['Vehicle Style'])\n",
        "data2 = (data2.drop(columns=['Vehicle Style'])).join(data11)\n",
        "\n",
        "new_cat = list(data11.columns)\n",
        "cat_cols2.remove('Vehicle Style')\n",
        "cat_cols2.extend(new_cat)"
      ],
      "metadata": {
        "id": "CmLDMOS1yK7v"
      },
      "execution_count": null,
      "outputs": []
    },
    {
      "cell_type": "code",
      "source": [
        "data2.head()"
      ],
      "metadata": {
        "colab": {
          "base_uri": "https://localhost:8080/",
          "height": 290
        },
        "id": "mgubglBwyzs5",
        "outputId": "8e55be65-54c5-43c8-8693-2f0aebc3156a"
      },
      "execution_count": null,
      "outputs": [
        {
          "output_type": "execute_result",
          "data": {
            "text/plain": [
              "   Engine Cylinders  Number of Doors  highway MPG  city mpg  Popularity  \\\n",
              "0               6.0              2.0           26        19        3916   \n",
              "1               6.0              2.0           28        19        3916   \n",
              "2               6.0              2.0           28        20        3916   \n",
              "3               6.0              2.0           28        18        3916   \n",
              "4               6.0              2.0           28        18        3916   \n",
              "\n",
              "    MSRP  Year  MinMax Fuel coef  Acura  Alfa Romeo  ...  Convertible  \\\n",
              "0  46135  2011          1.368421      0           0  ...            0   \n",
              "1  40650  2011          1.473684      0           0  ...            1   \n",
              "2  36350  2011          1.400000      0           0  ...            0   \n",
              "3  29450  2011          1.555556      0           0  ...            0   \n",
              "4  34500  2011          1.555556      0           0  ...            1   \n",
              "\n",
              "   Convertible SUV  Coupe  Crew Cab Pickup  Extended Cab Pickup  \\\n",
              "0                0      1                0                    0   \n",
              "1                0      0                0                    0   \n",
              "2                0      1                0                    0   \n",
              "3                0      1                0                    0   \n",
              "4                0      0                0                    0   \n",
              "\n",
              "   Passenger Minivan  Passenger Van  Regular Cab Pickup  Sedan  Wagon  \n",
              "0                  0              0                   0      0      0  \n",
              "1                  0              0                   0      0      0  \n",
              "2                  0              0                   0      0      0  \n",
              "3                  0              0                   0      0      0  \n",
              "4                  0              0                   0      0      0  \n",
              "\n",
              "[5 rows x 91 columns]"
            ],
            "text/html": [
              "\n",
              "  <div id=\"df-67d702c4-cfe7-44ef-99a8-6568d9808697\" class=\"colab-df-container\">\n",
              "    <div>\n",
              "<style scoped>\n",
              "    .dataframe tbody tr th:only-of-type {\n",
              "        vertical-align: middle;\n",
              "    }\n",
              "\n",
              "    .dataframe tbody tr th {\n",
              "        vertical-align: top;\n",
              "    }\n",
              "\n",
              "    .dataframe thead th {\n",
              "        text-align: right;\n",
              "    }\n",
              "</style>\n",
              "<table border=\"1\" class=\"dataframe\">\n",
              "  <thead>\n",
              "    <tr style=\"text-align: right;\">\n",
              "      <th></th>\n",
              "      <th>Engine Cylinders</th>\n",
              "      <th>Number of Doors</th>\n",
              "      <th>highway MPG</th>\n",
              "      <th>city mpg</th>\n",
              "      <th>Popularity</th>\n",
              "      <th>MSRP</th>\n",
              "      <th>Year</th>\n",
              "      <th>MinMax Fuel coef</th>\n",
              "      <th>Acura</th>\n",
              "      <th>Alfa Romeo</th>\n",
              "      <th>...</th>\n",
              "      <th>Convertible</th>\n",
              "      <th>Convertible SUV</th>\n",
              "      <th>Coupe</th>\n",
              "      <th>Crew Cab Pickup</th>\n",
              "      <th>Extended Cab Pickup</th>\n",
              "      <th>Passenger Minivan</th>\n",
              "      <th>Passenger Van</th>\n",
              "      <th>Regular Cab Pickup</th>\n",
              "      <th>Sedan</th>\n",
              "      <th>Wagon</th>\n",
              "    </tr>\n",
              "  </thead>\n",
              "  <tbody>\n",
              "    <tr>\n",
              "      <th>0</th>\n",
              "      <td>6.0</td>\n",
              "      <td>2.0</td>\n",
              "      <td>26</td>\n",
              "      <td>19</td>\n",
              "      <td>3916</td>\n",
              "      <td>46135</td>\n",
              "      <td>2011</td>\n",
              "      <td>1.368421</td>\n",
              "      <td>0</td>\n",
              "      <td>0</td>\n",
              "      <td>...</td>\n",
              "      <td>0</td>\n",
              "      <td>0</td>\n",
              "      <td>1</td>\n",
              "      <td>0</td>\n",
              "      <td>0</td>\n",
              "      <td>0</td>\n",
              "      <td>0</td>\n",
              "      <td>0</td>\n",
              "      <td>0</td>\n",
              "      <td>0</td>\n",
              "    </tr>\n",
              "    <tr>\n",
              "      <th>1</th>\n",
              "      <td>6.0</td>\n",
              "      <td>2.0</td>\n",
              "      <td>28</td>\n",
              "      <td>19</td>\n",
              "      <td>3916</td>\n",
              "      <td>40650</td>\n",
              "      <td>2011</td>\n",
              "      <td>1.473684</td>\n",
              "      <td>0</td>\n",
              "      <td>0</td>\n",
              "      <td>...</td>\n",
              "      <td>1</td>\n",
              "      <td>0</td>\n",
              "      <td>0</td>\n",
              "      <td>0</td>\n",
              "      <td>0</td>\n",
              "      <td>0</td>\n",
              "      <td>0</td>\n",
              "      <td>0</td>\n",
              "      <td>0</td>\n",
              "      <td>0</td>\n",
              "    </tr>\n",
              "    <tr>\n",
              "      <th>2</th>\n",
              "      <td>6.0</td>\n",
              "      <td>2.0</td>\n",
              "      <td>28</td>\n",
              "      <td>20</td>\n",
              "      <td>3916</td>\n",
              "      <td>36350</td>\n",
              "      <td>2011</td>\n",
              "      <td>1.400000</td>\n",
              "      <td>0</td>\n",
              "      <td>0</td>\n",
              "      <td>...</td>\n",
              "      <td>0</td>\n",
              "      <td>0</td>\n",
              "      <td>1</td>\n",
              "      <td>0</td>\n",
              "      <td>0</td>\n",
              "      <td>0</td>\n",
              "      <td>0</td>\n",
              "      <td>0</td>\n",
              "      <td>0</td>\n",
              "      <td>0</td>\n",
              "    </tr>\n",
              "    <tr>\n",
              "      <th>3</th>\n",
              "      <td>6.0</td>\n",
              "      <td>2.0</td>\n",
              "      <td>28</td>\n",
              "      <td>18</td>\n",
              "      <td>3916</td>\n",
              "      <td>29450</td>\n",
              "      <td>2011</td>\n",
              "      <td>1.555556</td>\n",
              "      <td>0</td>\n",
              "      <td>0</td>\n",
              "      <td>...</td>\n",
              "      <td>0</td>\n",
              "      <td>0</td>\n",
              "      <td>1</td>\n",
              "      <td>0</td>\n",
              "      <td>0</td>\n",
              "      <td>0</td>\n",
              "      <td>0</td>\n",
              "      <td>0</td>\n",
              "      <td>0</td>\n",
              "      <td>0</td>\n",
              "    </tr>\n",
              "    <tr>\n",
              "      <th>4</th>\n",
              "      <td>6.0</td>\n",
              "      <td>2.0</td>\n",
              "      <td>28</td>\n",
              "      <td>18</td>\n",
              "      <td>3916</td>\n",
              "      <td>34500</td>\n",
              "      <td>2011</td>\n",
              "      <td>1.555556</td>\n",
              "      <td>0</td>\n",
              "      <td>0</td>\n",
              "      <td>...</td>\n",
              "      <td>1</td>\n",
              "      <td>0</td>\n",
              "      <td>0</td>\n",
              "      <td>0</td>\n",
              "      <td>0</td>\n",
              "      <td>0</td>\n",
              "      <td>0</td>\n",
              "      <td>0</td>\n",
              "      <td>0</td>\n",
              "      <td>0</td>\n",
              "    </tr>\n",
              "  </tbody>\n",
              "</table>\n",
              "<p>5 rows × 91 columns</p>\n",
              "</div>\n",
              "    <div class=\"colab-df-buttons\">\n",
              "\n",
              "  <div class=\"colab-df-container\">\n",
              "    <button class=\"colab-df-convert\" onclick=\"convertToInteractive('df-67d702c4-cfe7-44ef-99a8-6568d9808697')\"\n",
              "            title=\"Convert this dataframe to an interactive table.\"\n",
              "            style=\"display:none;\">\n",
              "\n",
              "  <svg xmlns=\"http://www.w3.org/2000/svg\" height=\"24px\" viewBox=\"0 -960 960 960\">\n",
              "    <path d=\"M120-120v-720h720v720H120Zm60-500h600v-160H180v160Zm220 220h160v-160H400v160Zm0 220h160v-160H400v160ZM180-400h160v-160H180v160Zm440 0h160v-160H620v160ZM180-180h160v-160H180v160Zm440 0h160v-160H620v160Z\"/>\n",
              "  </svg>\n",
              "    </button>\n",
              "\n",
              "  <style>\n",
              "    .colab-df-container {\n",
              "      display:flex;\n",
              "      gap: 12px;\n",
              "    }\n",
              "\n",
              "    .colab-df-convert {\n",
              "      background-color: #E8F0FE;\n",
              "      border: none;\n",
              "      border-radius: 50%;\n",
              "      cursor: pointer;\n",
              "      display: none;\n",
              "      fill: #1967D2;\n",
              "      height: 32px;\n",
              "      padding: 0 0 0 0;\n",
              "      width: 32px;\n",
              "    }\n",
              "\n",
              "    .colab-df-convert:hover {\n",
              "      background-color: #E2EBFA;\n",
              "      box-shadow: 0px 1px 2px rgba(60, 64, 67, 0.3), 0px 1px 3px 1px rgba(60, 64, 67, 0.15);\n",
              "      fill: #174EA6;\n",
              "    }\n",
              "\n",
              "    .colab-df-buttons div {\n",
              "      margin-bottom: 4px;\n",
              "    }\n",
              "\n",
              "    [theme=dark] .colab-df-convert {\n",
              "      background-color: #3B4455;\n",
              "      fill: #D2E3FC;\n",
              "    }\n",
              "\n",
              "    [theme=dark] .colab-df-convert:hover {\n",
              "      background-color: #434B5C;\n",
              "      box-shadow: 0px 1px 3px 1px rgba(0, 0, 0, 0.15);\n",
              "      filter: drop-shadow(0px 1px 2px rgba(0, 0, 0, 0.3));\n",
              "      fill: #FFFFFF;\n",
              "    }\n",
              "  </style>\n",
              "\n",
              "    <script>\n",
              "      const buttonEl =\n",
              "        document.querySelector('#df-67d702c4-cfe7-44ef-99a8-6568d9808697 button.colab-df-convert');\n",
              "      buttonEl.style.display =\n",
              "        google.colab.kernel.accessAllowed ? 'block' : 'none';\n",
              "\n",
              "      async function convertToInteractive(key) {\n",
              "        const element = document.querySelector('#df-67d702c4-cfe7-44ef-99a8-6568d9808697');\n",
              "        const dataTable =\n",
              "          await google.colab.kernel.invokeFunction('convertToInteractive',\n",
              "                                                    [key], {});\n",
              "        if (!dataTable) return;\n",
              "\n",
              "        const docLinkHtml = 'Like what you see? Visit the ' +\n",
              "          '<a target=\"_blank\" href=https://colab.research.google.com/notebooks/data_table.ipynb>data table notebook</a>'\n",
              "          + ' to learn more about interactive tables.';\n",
              "        element.innerHTML = '';\n",
              "        dataTable['output_type'] = 'display_data';\n",
              "        await google.colab.output.renderOutput(dataTable, element);\n",
              "        const docLink = document.createElement('div');\n",
              "        docLink.innerHTML = docLinkHtml;\n",
              "        element.appendChild(docLink);\n",
              "      }\n",
              "    </script>\n",
              "  </div>\n",
              "\n",
              "\n",
              "<div id=\"df-f4f3630d-577a-4905-ac16-d4c188e24591\">\n",
              "  <button class=\"colab-df-quickchart\" onclick=\"quickchart('df-f4f3630d-577a-4905-ac16-d4c188e24591')\"\n",
              "            title=\"Suggest charts\"\n",
              "            style=\"display:none;\">\n",
              "\n",
              "<svg xmlns=\"http://www.w3.org/2000/svg\" height=\"24px\"viewBox=\"0 0 24 24\"\n",
              "     width=\"24px\">\n",
              "    <g>\n",
              "        <path d=\"M19 3H5c-1.1 0-2 .9-2 2v14c0 1.1.9 2 2 2h14c1.1 0 2-.9 2-2V5c0-1.1-.9-2-2-2zM9 17H7v-7h2v7zm4 0h-2V7h2v10zm4 0h-2v-4h2v4z\"/>\n",
              "    </g>\n",
              "</svg>\n",
              "  </button>\n",
              "\n",
              "<style>\n",
              "  .colab-df-quickchart {\n",
              "      --bg-color: #E8F0FE;\n",
              "      --fill-color: #1967D2;\n",
              "      --hover-bg-color: #E2EBFA;\n",
              "      --hover-fill-color: #174EA6;\n",
              "      --disabled-fill-color: #AAA;\n",
              "      --disabled-bg-color: #DDD;\n",
              "  }\n",
              "\n",
              "  [theme=dark] .colab-df-quickchart {\n",
              "      --bg-color: #3B4455;\n",
              "      --fill-color: #D2E3FC;\n",
              "      --hover-bg-color: #434B5C;\n",
              "      --hover-fill-color: #FFFFFF;\n",
              "      --disabled-bg-color: #3B4455;\n",
              "      --disabled-fill-color: #666;\n",
              "  }\n",
              "\n",
              "  .colab-df-quickchart {\n",
              "    background-color: var(--bg-color);\n",
              "    border: none;\n",
              "    border-radius: 50%;\n",
              "    cursor: pointer;\n",
              "    display: none;\n",
              "    fill: var(--fill-color);\n",
              "    height: 32px;\n",
              "    padding: 0;\n",
              "    width: 32px;\n",
              "  }\n",
              "\n",
              "  .colab-df-quickchart:hover {\n",
              "    background-color: var(--hover-bg-color);\n",
              "    box-shadow: 0 1px 2px rgba(60, 64, 67, 0.3), 0 1px 3px 1px rgba(60, 64, 67, 0.15);\n",
              "    fill: var(--button-hover-fill-color);\n",
              "  }\n",
              "\n",
              "  .colab-df-quickchart-complete:disabled,\n",
              "  .colab-df-quickchart-complete:disabled:hover {\n",
              "    background-color: var(--disabled-bg-color);\n",
              "    fill: var(--disabled-fill-color);\n",
              "    box-shadow: none;\n",
              "  }\n",
              "\n",
              "  .colab-df-spinner {\n",
              "    border: 2px solid var(--fill-color);\n",
              "    border-color: transparent;\n",
              "    border-bottom-color: var(--fill-color);\n",
              "    animation:\n",
              "      spin 1s steps(1) infinite;\n",
              "  }\n",
              "\n",
              "  @keyframes spin {\n",
              "    0% {\n",
              "      border-color: transparent;\n",
              "      border-bottom-color: var(--fill-color);\n",
              "      border-left-color: var(--fill-color);\n",
              "    }\n",
              "    20% {\n",
              "      border-color: transparent;\n",
              "      border-left-color: var(--fill-color);\n",
              "      border-top-color: var(--fill-color);\n",
              "    }\n",
              "    30% {\n",
              "      border-color: transparent;\n",
              "      border-left-color: var(--fill-color);\n",
              "      border-top-color: var(--fill-color);\n",
              "      border-right-color: var(--fill-color);\n",
              "    }\n",
              "    40% {\n",
              "      border-color: transparent;\n",
              "      border-right-color: var(--fill-color);\n",
              "      border-top-color: var(--fill-color);\n",
              "    }\n",
              "    60% {\n",
              "      border-color: transparent;\n",
              "      border-right-color: var(--fill-color);\n",
              "    }\n",
              "    80% {\n",
              "      border-color: transparent;\n",
              "      border-right-color: var(--fill-color);\n",
              "      border-bottom-color: var(--fill-color);\n",
              "    }\n",
              "    90% {\n",
              "      border-color: transparent;\n",
              "      border-bottom-color: var(--fill-color);\n",
              "    }\n",
              "  }\n",
              "</style>\n",
              "\n",
              "  <script>\n",
              "    async function quickchart(key) {\n",
              "      const quickchartButtonEl =\n",
              "        document.querySelector('#' + key + ' button');\n",
              "      quickchartButtonEl.disabled = true;  // To prevent multiple clicks.\n",
              "      quickchartButtonEl.classList.add('colab-df-spinner');\n",
              "      try {\n",
              "        const charts = await google.colab.kernel.invokeFunction(\n",
              "            'suggestCharts', [key], {});\n",
              "      } catch (error) {\n",
              "        console.error('Error during call to suggestCharts:', error);\n",
              "      }\n",
              "      quickchartButtonEl.classList.remove('colab-df-spinner');\n",
              "      quickchartButtonEl.classList.add('colab-df-quickchart-complete');\n",
              "    }\n",
              "    (() => {\n",
              "      let quickchartButtonEl =\n",
              "        document.querySelector('#df-f4f3630d-577a-4905-ac16-d4c188e24591 button');\n",
              "      quickchartButtonEl.style.display =\n",
              "        google.colab.kernel.accessAllowed ? 'block' : 'none';\n",
              "    })();\n",
              "  </script>\n",
              "</div>\n",
              "    </div>\n",
              "  </div>\n"
            ]
          },
          "metadata": {},
          "execution_count": 50
        }
      ]
    },
    {
      "cell_type": "markdown",
      "source": [
        "Список новых признаков"
      ],
      "metadata": {
        "id": "Cr7uypip1qD-"
      }
    },
    {
      "cell_type": "code",
      "source": [
        "cat_cols2"
      ],
      "metadata": {
        "colab": {
          "base_uri": "https://localhost:8080/"
        },
        "id": "xxjzjFsoy4zo",
        "outputId": "04f2fdbe-f461-44ae-d083-f638b2fb621c"
      },
      "execution_count": null,
      "outputs": [
        {
          "output_type": "execute_result",
          "data": {
            "text/plain": [
              "['Acura',\n",
              " 'Alfa Romeo',\n",
              " 'Aston Martin',\n",
              " 'Audi',\n",
              " 'BMW',\n",
              " 'Bentley',\n",
              " 'Bugatti',\n",
              " 'Buick',\n",
              " 'Cadillac',\n",
              " 'Chevrolet',\n",
              " 'Chrysler',\n",
              " 'Dodge',\n",
              " 'FIAT',\n",
              " 'Ferrari',\n",
              " 'Ford',\n",
              " 'GMC',\n",
              " 'Genesis',\n",
              " 'HUMMER',\n",
              " 'Honda',\n",
              " 'Hyundai',\n",
              " 'Infiniti',\n",
              " 'Kia',\n",
              " 'Lamborghini',\n",
              " 'Land Rover',\n",
              " 'Lexus',\n",
              " 'Lincoln',\n",
              " 'Lotus',\n",
              " 'Maserati',\n",
              " 'Maybach',\n",
              " 'Mazda',\n",
              " 'McLaren',\n",
              " 'Mercedes-Benz',\n",
              " 'Mitsubishi',\n",
              " 'Nissan',\n",
              " 'Oldsmobile',\n",
              " 'Plymouth',\n",
              " 'Pontiac',\n",
              " 'Porsche',\n",
              " 'Rolls-Royce',\n",
              " 'Saab',\n",
              " 'Scion',\n",
              " 'Spyker',\n",
              " 'Subaru',\n",
              " 'Suzuki',\n",
              " 'Toyota',\n",
              " 'Volkswagen',\n",
              " 'Volvo',\n",
              " 'diesel',\n",
              " 'electric',\n",
              " 'flex-fuel (premium unleaded recommended/E85)',\n",
              " 'flex-fuel (premium unleaded required/E85)',\n",
              " 'flex-fuel (unleaded/E85)',\n",
              " 'premium unleaded (recommended)',\n",
              " 'premium unleaded (required)',\n",
              " 'regular unleaded',\n",
              " 'AUTOMATED_MANUAL',\n",
              " 'AUTOMATIC',\n",
              " 'DIRECT_DRIVE',\n",
              " 'MANUAL',\n",
              " 'UNKNOWN',\n",
              " 'all wheel drive',\n",
              " 'four wheel drive',\n",
              " 'front wheel drive',\n",
              " 'rear wheel drive',\n",
              " 'Compact',\n",
              " 'Large',\n",
              " 'Midsize',\n",
              " '2dr Hatchback',\n",
              " '2dr SUV',\n",
              " '4dr Hatchback',\n",
              " '4dr SUV',\n",
              " 'Cargo Minivan',\n",
              " 'Cargo Van',\n",
              " 'Convertible',\n",
              " 'Convertible SUV',\n",
              " 'Coupe',\n",
              " 'Crew Cab Pickup',\n",
              " 'Extended Cab Pickup',\n",
              " 'Passenger Minivan',\n",
              " 'Passenger Van',\n",
              " 'Regular Cab Pickup',\n",
              " 'Sedan',\n",
              " 'Wagon']"
            ]
          },
          "metadata": {},
          "execution_count": 51
        }
      ]
    },
    {
      "cell_type": "markdown",
      "source": [
        "Масштабирование признаков"
      ],
      "metadata": {
        "id": "fX1tJOxhOpJE"
      }
    },
    {
      "cell_type": "code",
      "source": [
        "from sklearn.preprocessing import StandardScaler\n",
        "\n",
        "pca = StandardScaler()\n",
        "pca.fit(data1[num_cols1 + cat_cols1])\n",
        "X1 = pca.transform(data1[num_cols1 + cat_cols1])\n",
        "\n",
        "pca.fit(data2[num_cols2 + cat_cols2])\n",
        "X2 = pca.transform(data2[num_cols2 + cat_cols2])"
      ],
      "metadata": {
        "id": "eCkWuOn9OrhL"
      },
      "execution_count": null,
      "outputs": []
    },
    {
      "cell_type": "markdown",
      "source": [
        "Разделение на train и test"
      ],
      "metadata": {
        "id": "V-uTVd2jQqr6"
      }
    },
    {
      "cell_type": "code",
      "source": [
        "X_train1, X_test1, y_train1, y_test1 = train_test_split(X1, data1[target_col1].values, test_size=0.2)\n",
        "X_train2, X_test2, y_train2, y_test2 = train_test_split(X2, data2[target_col2].values, test_size=0.2)"
      ],
      "metadata": {
        "id": "f1GXhZeGQtok"
      },
      "execution_count": null,
      "outputs": []
    },
    {
      "cell_type": "markdown",
      "source": [
        "##4.d: Обучить модели линейной и логистической регрессии"
      ],
      "metadata": {
        "id": "Am5QA7lD8lHU"
      }
    },
    {
      "cell_type": "code",
      "source": [
        "lr = LinearRegression()\n",
        "lr.fit(X_train1, y_train1)\n",
        "\n",
        "print_metrics(lr.predict(X_test1), y_test1)"
      ],
      "metadata": {
        "colab": {
          "base_uri": "https://localhost:8080/"
        },
        "id": "IILgpJUsQzJr",
        "outputId": "c393fc78-7864-4d1d-e89f-549f6c1feaad"
      },
      "execution_count": null,
      "outputs": [
        {
          "output_type": "stream",
          "name": "stdout",
          "text": [
            "R^2: 0.789399175561665\n",
            "MSE: 634440486.6005175\n"
          ]
        }
      ]
    },
    {
      "cell_type": "code",
      "source": [
        "lr = LogisticRegression()\n",
        "lr.fit(X_train2, y_train2)\n",
        "\n",
        "print_metrics(lr.predict(X_test2), y_test2)"
      ],
      "metadata": {
        "colab": {
          "base_uri": "https://localhost:8080/"
        },
        "id": "JSrqx6UbRHdN",
        "outputId": "39cab27c-ea9f-4f15-cca1-afd1bcb07f62"
      },
      "execution_count": null,
      "outputs": [
        {
          "output_type": "stream",
          "name": "stdout",
          "text": [
            "R^2: 0.7091972021808679\n",
            "MSE: 10.78169449598021\n"
          ]
        },
        {
          "output_type": "stream",
          "name": "stderr",
          "text": [
            "/usr/local/lib/python3.10/dist-packages/sklearn/linear_model/_logistic.py:458: ConvergenceWarning: lbfgs failed to converge (status=1):\n",
            "STOP: TOTAL NO. of ITERATIONS REACHED LIMIT.\n",
            "\n",
            "Increase the number of iterations (max_iter) or scale the data as shown in:\n",
            "    https://scikit-learn.org/stable/modules/preprocessing.html\n",
            "Please also refer to the documentation for alternative solver options:\n",
            "    https://scikit-learn.org/stable/modules/linear_model.html#logistic-regression\n",
            "  n_iter_i = _check_optimize_result(\n"
          ]
        }
      ]
    },
    {
      "cell_type": "markdown",
      "source": [
        "##4.e: Проверить гипотезы"
      ],
      "metadata": {
        "id": "PgHHIZsr8rQk"
      }
    },
    {
      "cell_type": "markdown",
      "source": [
        "Гипотезы были верны: проделанные проеобразования с данными дают неплохие результаты. Добавление нового параметра мало повлияло на результаты (фиксировал отличие самостоятельно, результаты решил не приводить во избежание путаницы). Но провести данный эксперимент было всё равно интересно."
      ],
      "metadata": {
        "id": "yHd6yOzqz1Gy"
      }
    },
    {
      "cell_type": "markdown",
      "source": [
        "##4.f: Сравнить результаты моделей с результатами из пункта 3."
      ],
      "metadata": {
        "id": "pC4iHKNs8vlt"
      }
    },
    {
      "cell_type": "markdown",
      "source": [
        "Результаты улучшились по обеим задачам (регрессия и классификация) в среднем в 1.5 раза. Это в целом неплохие результаты, которые можно попытаться улучшить в следущих пунктах."
      ],
      "metadata": {
        "id": "941crgxS2Aca"
      }
    },
    {
      "cell_type": "markdown",
      "source": [
        "##4.g: Сделать выводы"
      ],
      "metadata": {
        "id": "IkDisLEo84Ns"
      }
    },
    {
      "cell_type": "markdown",
      "source": [
        "Вероятнее всего, на улучшение результатов повлияло учитывание категориальных признаков и удаление занулённых значений. От удаления некоторых категорий результаты точно не стали хуже, а скорее всего даже наоборот, т.к. они усложняли пресказывание результатов."
      ],
      "metadata": {
        "id": "WyfhC_co2Uxw"
      }
    },
    {
      "cell_type": "markdown",
      "source": [
        "#5. Реализация алгоритмов линейной и логистической регрессии"
      ],
      "metadata": {
        "id": "sT5FE0gd890s"
      }
    },
    {
      "cell_type": "markdown",
      "source": [
        "##5.a: Самостоятельно реализовать алгоритмы"
      ],
      "metadata": {
        "id": "fBgN_gF59Dnl"
      }
    },
    {
      "cell_type": "markdown",
      "source": [
        "Линейная регрессия для задачи регрессии"
      ],
      "metadata": {
        "id": "Qu7ZiYqIUwOC"
      }
    },
    {
      "cell_type": "code",
      "source": [
        "class MyLinR():\n",
        "  def __init__(self):\n",
        "    self.coef = []\n",
        "\n",
        "  def fit(self, X, y):\n",
        "    self.coef = np.dot(np.dot(np.linalg.inv(np.dot(X.T, X)), X.T), y)\n",
        "\n",
        "  def predict(self, X):\n",
        "    return np.dot(self.coef, X.T)"
      ],
      "metadata": {
        "id": "CsSBkMMGUviN"
      },
      "execution_count": null,
      "outputs": []
    },
    {
      "cell_type": "markdown",
      "source": [
        "Логистическая регрессия для задачи классификации"
      ],
      "metadata": {
        "id": "lctJEtaCVG-B"
      }
    },
    {
      "cell_type": "code",
      "source": [
        "class MyLogR():\n",
        "    def __init__(self, learning_rate=0.1, num_iterations=1000):\n",
        "        self.learning_rate = learning_rate\n",
        "        self.num_iterations = num_iterations\n",
        "        self.weights = None\n",
        "        self.bias = None\n",
        "\n",
        "    def softmax(self, z):\n",
        "        exp_z = np.exp(z - np.max(z, axis=1, keepdims=True))\n",
        "        return exp_z / np.sum(exp_z, axis=1, keepdims=True)\n",
        "\n",
        "    def fit(self, X, y):\n",
        "        num_classes = len(np.unique(y))\n",
        "        num_features = X.shape[1]\n",
        "\n",
        "        self.weights = np.zeros((num_features, num_classes))\n",
        "        self.bias = np.zeros((1, num_classes))\n",
        "\n",
        "        y_one_hot = np.eye(num_classes)[y]\n",
        "\n",
        "        for _ in range(self.num_iterations):\n",
        "            linear_combination = np.dot(X, self.weights) + self.bias\n",
        "\n",
        "            predictions = self.softmax(linear_combination)\n",
        "\n",
        "            gradient_weights = np.dot(X.T, (predictions - y_one_hot)) / len(y)\n",
        "            gradient_bias = np.sum(predictions - y_one_hot, axis=0, keepdims=True) / len(y)\n",
        "\n",
        "            self.weights -= self.learning_rate * gradient_weights\n",
        "            self.bias -= self.learning_rate * gradient_bias\n",
        "\n",
        "    def predict(self, X):\n",
        "        linear_combination = np.dot(X, self.weights) + self.bias\n",
        "        predictions = self.softmax(linear_combination)\n",
        "        return np.argmax(predictions, axis=1)"
      ],
      "metadata": {
        "id": "X7vKDTiZ3J8Q"
      },
      "execution_count": null,
      "outputs": []
    },
    {
      "cell_type": "markdown",
      "source": [
        "##5.b: Сравнить результаты моделей с результатами из пункта 4"
      ],
      "metadata": {
        "id": "L9lq9NnC9KXE"
      }
    },
    {
      "cell_type": "code",
      "source": [
        "lr = MyLinR()\n",
        "lr.fit(X_train1, y_train1)\n",
        "\n",
        "print_metrics(lr.predict(X_test1), y_test1)"
      ],
      "metadata": {
        "colab": {
          "base_uri": "https://localhost:8080/"
        },
        "id": "ZPN4JQnkU7ST",
        "outputId": "0561e3ee-f46c-49bf-bc26-9add15c4caa9"
      },
      "execution_count": null,
      "outputs": [
        {
          "output_type": "stream",
          "name": "stdout",
          "text": [
            "R^2: -0.01847025514925771\n",
            "MSE: 5072419750.625781\n"
          ]
        }
      ]
    },
    {
      "cell_type": "code",
      "source": [
        "lr = MyLogR()\n",
        "lr.fit(X_train2, y_train2 - np.min(data2['Year']))\n",
        "\n",
        "print_metrics(lr.predict(X_test2), y_test2 - np.min(data2['Year']))"
      ],
      "metadata": {
        "colab": {
          "base_uri": "https://localhost:8080/"
        },
        "id": "gHaXjdK63cTo",
        "outputId": "70a64ab8-958e-439a-b2bd-3b5e7a36c739"
      },
      "execution_count": null,
      "outputs": [
        {
          "output_type": "stream",
          "name": "stdout",
          "text": [
            "R^2: 0.3810546553286114\n",
            "MSE: 18.027210884353742\n"
          ]
        }
      ]
    },
    {
      "cell_type": "markdown",
      "source": [
        "##5.c: Сделать выводы"
      ],
      "metadata": {
        "id": "Xe56Oxwr9To8"
      }
    },
    {
      "cell_type": "markdown",
      "source": [
        "Собственные реализации работают хуже встроенных (особенно линейная регрессия). Это связано с тем, что встроенные реализации более детально проработанны и учитывают довольно большое количество параметров. Мои же реализации более упрощённые и дают не такой хороший результат."
      ],
      "metadata": {
        "id": "niHjoulV80Vz"
      }
    },
    {
      "cell_type": "markdown",
      "source": [
        "#6. Определить пайплайн решения"
      ],
      "metadata": {
        "id": "FSZAp9YV9YVt"
      }
    },
    {
      "cell_type": "markdown",
      "source": [
        "В прошлых пунктах мною были проверены выдвинутые гипотезы, реализованы некоторые модели, было произведено сравнение значений их результатов со встроенными аналогами, а также были сформулированы выводы. С этими знаниями осталось перейти к завершающему пункту и получить новые результаты."
      ],
      "metadata": {
        "id": "0yZo_sxd9l88"
      }
    },
    {
      "cell_type": "markdown",
      "source": [
        "#7. Реализация алгоритмов"
      ],
      "metadata": {
        "id": "PpBvRZLd9cSs"
      }
    },
    {
      "cell_type": "markdown",
      "source": [
        "##7.a: Самостоятельно реализовать алгоритмы"
      ],
      "metadata": {
        "id": "k0F8-YjR9jS8"
      }
    },
    {
      "cell_type": "code",
      "source": [
        "from sklearn.tree import DecisionTreeRegressor\n",
        "from sklearn.tree import DecisionTreeClassifier\n",
        "from sklearn.ensemble import RandomForestRegressor\n",
        "from sklearn.ensemble import RandomForestClassifier\n",
        "from sklearn.ensemble import GradientBoostingRegressor\n",
        "from sklearn.ensemble import GradientBoostingClassifier"
      ],
      "metadata": {
        "id": "H8RPp0hnLBGX"
      },
      "execution_count": null,
      "outputs": []
    },
    {
      "cell_type": "markdown",
      "source": [
        "Дерево решений для задачи регрессии"
      ],
      "metadata": {
        "id": "3vvDOZMsIQD_"
      }
    },
    {
      "cell_type": "code",
      "source": [
        "class MyDecisionTreeRegressor():\n",
        "    def __init__(self, max_depth=5, min_samples_split=2):\n",
        "        self.max_depth = max_depth\n",
        "        self.min_samples_split = min_samples_split\n",
        "        self.tree = None\n",
        "\n",
        "    def fit(self, X, y):\n",
        "        self.tree = self._build_tree(X, y, depth=0)\n",
        "\n",
        "    def _build_tree(self, X, y, depth):\n",
        "        n_samples, n_features = X.shape\n",
        "        unique_values, unique_counts = np.unique(y, return_counts=True)\n",
        "\n",
        "        if len(unique_values) == 1 or n_samples < self.min_samples_split or (self.max_depth and depth == self.max_depth):\n",
        "            return {'value': np.mean(y)}\n",
        "\n",
        "        best_feature, best_threshold = self._find_best_split(X, y)\n",
        "\n",
        "        left_mask = X[:, best_feature] <= best_threshold\n",
        "        right_mask = ~left_mask\n",
        "\n",
        "        left_subtree = self._build_tree(X[left_mask], y[left_mask], depth + 1)\n",
        "        right_subtree = self._build_tree(X[right_mask], y[right_mask], depth + 1)\n",
        "\n",
        "        return {'feature_index': best_feature, 'threshold': best_threshold,\n",
        "                'left': left_subtree, 'right': right_subtree}\n",
        "\n",
        "    def _find_best_split(self, X, y):\n",
        "        n_samples, n_features = X.shape\n",
        "        best_mse = float('inf')\n",
        "        best_feature = None\n",
        "        best_threshold = None\n",
        "\n",
        "        for feature_index in range(n_features):\n",
        "            thresholds = np.unique(X[:, feature_index])\n",
        "\n",
        "            for threshold in thresholds:\n",
        "                left_mask = X[:, feature_index] <= threshold\n",
        "                right_mask = ~left_mask\n",
        "\n",
        "                if np.sum(left_mask) == 0 or np.sum(right_mask) == 0:\n",
        "                    continue\n",
        "\n",
        "                mse = self._calculate_mse(y[left_mask], y[right_mask])\n",
        "\n",
        "                if mse < best_mse:\n",
        "                    best_mse = mse\n",
        "                    best_feature = feature_index\n",
        "                    best_threshold = threshold\n",
        "\n",
        "        return best_feature, best_threshold\n",
        "\n",
        "    def _calculate_mse(self, y_left, y_right):\n",
        "        mse_left = np.mean((y_left - np.mean(y_left))**2)\n",
        "        mse_right = np.mean((y_right - np.mean(y_right))**2)\n",
        "        mse = mse_left + mse_right\n",
        "        return mse\n",
        "\n",
        "    def _predict_tree(self, x, node):\n",
        "        if 'value' in node:\n",
        "            return node['value']\n",
        "\n",
        "        if x[node['feature_index']] <= node['threshold']:\n",
        "            return self._predict_tree(x, node['left'])\n",
        "        else:\n",
        "            return self._predict_tree(x, node['right'])\n",
        "\n",
        "    def predict(self, X):\n",
        "        return np.array([self._predict_tree(x, self.tree) for x in X])"
      ],
      "metadata": {
        "id": "cldWbNscIPnw"
      },
      "execution_count": null,
      "outputs": []
    },
    {
      "cell_type": "markdown",
      "source": [
        "Дерево решений для задачи классификации"
      ],
      "metadata": {
        "id": "JrLQDknIITWO"
      }
    },
    {
      "cell_type": "code",
      "source": [
        "class MyDecisionTreeClassifier():\n",
        "    def __init__(self, max_depth=3):\n",
        "        self.max_depth = max_depth\n",
        "\n",
        "    def fit(self, X, y):\n",
        "        self.tree = self._build_tree(X, y, depth=0)\n",
        "\n",
        "    def _build_tree(self, X, y, depth):\n",
        "        unique_classes = list(set(y))\n",
        "\n",
        "        if len(unique_classes) == 1:\n",
        "            return {'class': unique_classes[0]}\n",
        "\n",
        "        if self.max_depth is not None and depth == self.max_depth:\n",
        "            most_common_class = max(set(y))\n",
        "            return {'class': most_common_class}\n",
        "\n",
        "        best_split = self._find_best_split(X, y)\n",
        "\n",
        "        if best_split is None:\n",
        "            print(type(y))\n",
        "            most_common_class = max(set(y))\n",
        "            return {'class': most_common_class}\n",
        "\n",
        "        left_child = self._build_tree(*best_split['left'], depth=depth + 1)\n",
        "        right_child = self._build_tree(*best_split['right'], depth=depth + 1)\n",
        "\n",
        "        return {'feature_idx': best_split['feature_idx'],\n",
        "                'threshold': best_split['threshold'],\n",
        "                'left': left_child,\n",
        "                'right': right_child}\n",
        "\n",
        "    def _find_best_split(self, X, y):\n",
        "        num_features = len(X[0])\n",
        "        m = len(y)\n",
        "        if m <= 1:\n",
        "            return None\n",
        "\n",
        "        num_classes = len(set(y))\n",
        "\n",
        "        best_gini = float('inf')\n",
        "        best_split = None\n",
        "\n",
        "        for feature_idx in range(num_features):\n",
        "            feature_values = sorted(set(X[i][feature_idx] for i in range(m)))\n",
        "\n",
        "            for threshold in feature_values:\n",
        "                left_indices = [i for i in range(m) if X[i][feature_idx] <= threshold]\n",
        "                right_indices = [i for i in range(m) if X[i][feature_idx] > threshold]\n",
        "\n",
        "                gini_left = self._compute_gini(y[left_indices])\n",
        "                gini_right = self._compute_gini(y[right_indices])\n",
        "\n",
        "                weighted_gini = (len(left_indices) / m) * gini_left + (len(right_indices) / m) * gini_right\n",
        "\n",
        "                if weighted_gini < best_gini:\n",
        "                    best_gini = weighted_gini\n",
        "                    best_split = {'feature_idx': feature_idx, 'threshold': threshold, 'left': (X[left_indices], y[left_indices]), 'right': (X[right_indices], y[right_indices])}\n",
        "\n",
        "        return best_split\n",
        "\n",
        "    def _compute_gini(self, y):\n",
        "        m = len(y)\n",
        "        if m == 0:\n",
        "            return 0\n",
        "\n",
        "        classes, counts = np.unique(y, return_counts=True)\n",
        "        probabilities = counts / m\n",
        "        gini = 1 - np.sum(probabilities ** 2)\n",
        "\n",
        "        return gini\n",
        "\n",
        "    def predict(self, X):\n",
        "        return np.array([self._predict_tree(x, self.tree) for x in X])\n",
        "\n",
        "    def _predict_tree(self, x, node):\n",
        "        if 'class' in node:\n",
        "            return node['class']\n",
        "\n",
        "        if x[node['feature_idx']] <= node['threshold']:\n",
        "            return self._predict_tree(x, node['left'])\n",
        "        else:\n",
        "            return self._predict_tree(x, node['right'])"
      ],
      "metadata": {
        "id": "r4OTME3qJDcG"
      },
      "execution_count": null,
      "outputs": []
    },
    {
      "cell_type": "code",
      "source": [
        "dtr = MyDecisionTreeRegressor()\n",
        "dtr.fit(X_train1, y_train1)\n",
        "\n",
        "print_metrics(dtr.predict(X_test1), y_test1)"
      ],
      "metadata": {
        "colab": {
          "base_uri": "https://localhost:8080/"
        },
        "id": "hq8XRtTGJWFw",
        "outputId": "39e31c86-edf0-40ac-8fc3-c71bb0230183"
      },
      "execution_count": null,
      "outputs": [
        {
          "output_type": "stream",
          "name": "stdout",
          "text": [
            "R^2: -2540.9416702578465\n",
            "MSE: 3095074629.348214\n"
          ]
        }
      ]
    },
    {
      "cell_type": "code",
      "source": [
        "dtr = MyDecisionTreeClassifier()\n",
        "dtr.fit(X_train2, y_train2)\n",
        "\n",
        "print_metrics(dtr.predict(X_test2), y_test2)"
      ],
      "metadata": {
        "colab": {
          "base_uri": "https://localhost:8080/"
        },
        "id": "qgCIAQXaKKfK",
        "outputId": "5f142cbe-6908-4c8c-a2a6-e2ef0128b1e5"
      },
      "execution_count": null,
      "outputs": [
        {
          "output_type": "stream",
          "name": "stdout",
          "text": [
            "R^2: -0.35543827356657687\n",
            "MSE: 27.03339517625232\n"
          ]
        }
      ]
    },
    {
      "cell_type": "markdown",
      "source": [
        "Случайный лес для задачи регрессии"
      ],
      "metadata": {
        "id": "6--cy1LRIWxg"
      }
    },
    {
      "cell_type": "code",
      "source": [
        "class MyRandomForestRegressor():\n",
        "    def __init__(self, n_trees=100, max_depth=None, min_samples_split=2, subsample_size=None):\n",
        "        self.n_trees = n_trees\n",
        "        self.max_depth = max_depth\n",
        "        self.min_samples_split = min_samples_split\n",
        "        self.subsample_size = subsample_size\n",
        "        self.trees = []\n",
        "\n",
        "    def fit(self, X, y):\n",
        "        self.trees = []\n",
        "        n_samples = X.shape[0]\n",
        "\n",
        "        for _ in range(self.n_trees):\n",
        "            if self.subsample_size:\n",
        "                indices = np.random.choice(n_samples, size=self.subsample_size, replace=True)\n",
        "                X_subset, y_subset = X[indices], y[indices]\n",
        "            else:\n",
        "                X_subset, y_subset = X, y\n",
        "\n",
        "            tree = DecisionTreeRegressor(max_depth=self.max_depth, min_samples_split=self.min_samples_split)\n",
        "            tree.fit(X_subset, y_subset)\n",
        "            self.trees.append(tree)\n",
        "\n",
        "    def predict(self, X):\n",
        "        predictions = np.array([tree.predict(X) for tree in self.trees])\n",
        "        return np.mean(predictions, axis=0)"
      ],
      "metadata": {
        "id": "3EXJcUrBI0Dv"
      },
      "execution_count": null,
      "outputs": []
    },
    {
      "cell_type": "markdown",
      "source": [
        "Случайный лес для задачи классификации"
      ],
      "metadata": {
        "id": "-2V7xVGHIaj5"
      }
    },
    {
      "cell_type": "code",
      "source": [
        "class MyRandomForestClassifier():\n",
        "    def __init__(self, n_trees=3, max_depth=1, sample_size=None):\n",
        "        self.n_trees = n_trees\n",
        "        self.max_depth = max_depth\n",
        "        self.sample_size = sample_size\n",
        "        self.trees = []\n",
        "\n",
        "    def fit(self, X, y):\n",
        "        for _ in range(self.n_trees):\n",
        "            tree = MyDecisionTreeClassifier(max_depth=self.max_depth)\n",
        "            if self.sample_size:\n",
        "                sample_indices = np.random.choice(len(X), size=self.sample_size, replace=True)\n",
        "                X_sample, y_sample = X[sample_indices], y[sample_indices]\n",
        "            else:\n",
        "                X_sample, y_sample = X, y\n",
        "            tree.fit(X_sample, y_sample)\n",
        "            self.trees.append(tree)\n",
        "\n",
        "    def predict(self, X):\n",
        "        predictions = np.array([tree.predict(X) for tree in self.trees])\n",
        "        return np.apply_along_axis(lambda x: np.bincount(x).argmax(), axis=0, arr=predictions)"
      ],
      "metadata": {
        "id": "yubzIM-mJGQO"
      },
      "execution_count": null,
      "outputs": []
    },
    {
      "cell_type": "code",
      "source": [
        "rfr = MyRandomForestRegressor()\n",
        "rfr.fit(X_train1, y_train1)\n",
        "\n",
        "print_metrics(rfr.predict(X_test1), y_test1)"
      ],
      "metadata": {
        "colab": {
          "base_uri": "https://localhost:8080/"
        },
        "id": "evpYAjXiLzAI",
        "outputId": "15caad96-0ea1-4e5a-d7ee-0d69c9c7d8da"
      },
      "execution_count": null,
      "outputs": [
        {
          "output_type": "stream",
          "name": "stdout",
          "text": [
            "R^2: 0.9195854045488892\n",
            "MSE: 298191676.73651963\n"
          ]
        }
      ]
    },
    {
      "cell_type": "code",
      "source": [
        "rfr = MyRandomForestClassifier()\n",
        "rfr.fit(X_train2, y_train2)\n",
        "\n",
        "print_metrics(rfr.predict(X_test2), y_test2)"
      ],
      "metadata": {
        "colab": {
          "base_uri": "https://localhost:8080/"
        },
        "id": "z3fMGY3HL2rK",
        "outputId": "46f31710-fef9-4b88-ea0a-e84c386aa453"
      },
      "execution_count": null,
      "outputs": [
        {
          "output_type": "stream",
          "name": "stdout",
          "text": [
            "R^2: -0.5609720670678218\n",
            "MSE: 27.875077303648734\n"
          ]
        }
      ]
    },
    {
      "cell_type": "markdown",
      "source": [
        "Градиентный бустинг для задачи регрессии"
      ],
      "metadata": {
        "id": "1_-OpfPWId-Y"
      }
    },
    {
      "cell_type": "code",
      "source": [
        "class MyGradientBoostingRegressor():\n",
        "    def __init__(self, n_estimators=100, learning_rate=0.1, max_depth=3):\n",
        "        self.n_estimators = n_estimators\n",
        "        self.learning_rate = learning_rate\n",
        "        self.max_depth = max_depth\n",
        "        self.trees = []\n",
        "\n",
        "    def fit(self, X, y):\n",
        "        predictions = np.zeros_like(y, dtype=np.float64)\n",
        "\n",
        "        for i in range(self.n_estimators):\n",
        "            residuals = y - predictions\n",
        "\n",
        "            tree = DecisionTreeRegressor(max_depth=self.max_depth)\n",
        "            tree.fit(X, residuals)\n",
        "\n",
        "            tree_predictions = tree.predict(X)\n",
        "\n",
        "            predictions += (self.learning_rate * tree_predictions)\n",
        "\n",
        "            self.trees.append(tree)\n",
        "\n",
        "    def predict(self, X):\n",
        "        predictions = np.zeros(X.shape[0])\n",
        "        for tree in self.trees:\n",
        "            predictions += self.learning_rate * tree.predict(X)\n",
        "        return predictions"
      ],
      "metadata": {
        "id": "Gd8BxGcWI33v"
      },
      "execution_count": null,
      "outputs": []
    },
    {
      "cell_type": "markdown",
      "source": [
        "Градиентный бустниг для задачи классификации"
      ],
      "metadata": {
        "id": "gmI4XJy8IjFR"
      }
    },
    {
      "cell_type": "code",
      "source": [
        "class MyGradientBoostingClassifier():\n",
        "    def __init__(self, n_estimators=3, learning_rate=0.1, max_depth=1):\n",
        "        self.n_estimators = n_estimators\n",
        "        self.learning_rate = learning_rate\n",
        "        self.max_depth = max_depth\n",
        "        self.trees = []\n",
        "\n",
        "    def fit(self, X, y):\n",
        "        predictions = np.zeros_like(y, dtype=np.float64)\n",
        "\n",
        "        for i in range(self.n_estimators):\n",
        "            residuals = y - predictions\n",
        "\n",
        "            tree = MyDecisionTreeClassifier(max_depth=self.max_depth)\n",
        "            tree.fit(X, residuals)\n",
        "\n",
        "            tree_predictions = tree.predict(X)\n",
        "\n",
        "            predictions += (self.learning_rate * tree_predictions)\n",
        "\n",
        "            self.trees.append(tree)\n",
        "\n",
        "    def predict(self, X):\n",
        "        predictions = np.zeros(X.shape[0])\n",
        "        for tree in self.trees:\n",
        "            predictions += self.learning_rate * tree.predict(X)\n",
        "        return predictions"
      ],
      "metadata": {
        "id": "c0IJu2dsJI-W"
      },
      "execution_count": null,
      "outputs": []
    },
    {
      "cell_type": "code",
      "source": [
        "gbr = MyGradientBoostingRegressor()\n",
        "gbr.fit(X_train1, y_train1)\n",
        "\n",
        "print_metrics(gbr.predict(X_test1), y_test1)"
      ],
      "metadata": {
        "colab": {
          "base_uri": "https://localhost:8080/"
        },
        "id": "tTfJfh1JL80e",
        "outputId": "71657286-a7ba-484d-e981-f55927b73d0f"
      },
      "execution_count": null,
      "outputs": [
        {
          "output_type": "stream",
          "name": "stdout",
          "text": [
            "R^2: 0.8631605835135363\n",
            "MSE: 408652840.0614469\n"
          ]
        }
      ]
    },
    {
      "cell_type": "code",
      "source": [
        "gbr = MyGradientBoostingClassifier()\n",
        "gbr.fit(X_train2, y_train2)\n",
        "\n",
        "print_metrics(gbr.predict(X_test2), y_test2)"
      ],
      "metadata": {
        "colab": {
          "base_uri": "https://localhost:8080/"
        },
        "id": "CQeuUt-oL-7G",
        "outputId": "6be10041-ddba-4534-d0cd-41c8c6cb5cc6"
      },
      "execution_count": null,
      "outputs": [
        {
          "output_type": "stream",
          "name": "stdout",
          "text": [
            "R^2: -1638470.59779612\n",
            "MSE: 2148812.135654333\n"
          ]
        }
      ]
    },
    {
      "cell_type": "markdown",
      "source": [
        "Для задачи регрессии все вышеперечисленные алгоритмы (кроме дерева решений, видимо проблема в реализации) справляются лучше, чем линейная регрессия. К сожалению, для задачи классификации мои реализации работали очень долго, поэтому пришлось уменьшить значения параметров, из-за чего результаты получились несколько хуже результатов логистической регрессии.\n",
        "\n",
        "Для задачи регресии: среди трёх моделей лучшие результаты показал алгоритм случайного леса.\n",
        "\n",
        "Для задачи классификации: среди трёх моделей лучшие результаты показал алгоритм дерева решений."
      ],
      "metadata": {
        "id": "FWKC0FajP_yx"
      }
    },
    {
      "cell_type": "markdown",
      "source": [
        "##7.b: Обучить модели из sklearn"
      ],
      "metadata": {
        "id": "2_TVqEo89n9F"
      }
    },
    {
      "cell_type": "markdown",
      "source": [
        "Дерево решений"
      ],
      "metadata": {
        "id": "l_qoNIkJN3ni"
      }
    },
    {
      "cell_type": "code",
      "source": [
        "dtr = DecisionTreeRegressor()\n",
        "dtr.fit(X_train1, y_train1)\n",
        "\n",
        "print_metrics(dtr.predict(X_test1), y_test1)"
      ],
      "metadata": {
        "colab": {
          "base_uri": "https://localhost:8080/"
        },
        "id": "hCN9YMj_OH4v",
        "outputId": "6dac0cc9-359b-4261-e406-391ea49c6b11"
      },
      "execution_count": null,
      "outputs": [
        {
          "output_type": "stream",
          "name": "stdout",
          "text": [
            "R^2: 0.9154853581938048\n",
            "MSE: 311311892.9152348\n"
          ]
        }
      ]
    },
    {
      "cell_type": "code",
      "source": [
        "dtr = DecisionTreeClassifier()\n",
        "dtr.fit(X_train2, y_train2)\n",
        "\n",
        "print_metrics(dtr.predict(X_test2), y_test2)"
      ],
      "metadata": {
        "colab": {
          "base_uri": "https://localhost:8080/"
        },
        "id": "NSfPzX9vOYHW",
        "outputId": "388781a7-947b-431a-ab53-70de49c35fb3"
      },
      "execution_count": null,
      "outputs": [
        {
          "output_type": "stream",
          "name": "stdout",
          "text": [
            "R^2: 0.9396700788324358\n",
            "MSE: 2.30117501546073\n"
          ]
        }
      ]
    },
    {
      "cell_type": "markdown",
      "source": [
        "Случайный лес"
      ],
      "metadata": {
        "id": "XwrUuRuPN74h"
      }
    },
    {
      "cell_type": "code",
      "source": [
        "rfr = RandomForestRegressor()\n",
        "rfr.fit(X_train1, y_train1)\n",
        "\n",
        "print_metrics(rfr.predict(X_test1), y_test1)"
      ],
      "metadata": {
        "colab": {
          "base_uri": "https://localhost:8080/"
        },
        "id": "NAm3Oo11OM5G",
        "outputId": "7620b407-20f6-4a4f-da96-c83a80a84bd8"
      },
      "execution_count": null,
      "outputs": [
        {
          "output_type": "stream",
          "name": "stdout",
          "text": [
            "R^2: 0.9350734404207566\n",
            "MSE: 220440343.19026542\n"
          ]
        }
      ]
    },
    {
      "cell_type": "code",
      "source": [
        "rfr = RandomForestClassifier()\n",
        "rfr.fit(X_train2, y_train2)\n",
        "\n",
        "print_metrics(rfr.predict(X_test2), y_test2)"
      ],
      "metadata": {
        "colab": {
          "base_uri": "https://localhost:8080/"
        },
        "id": "0VGrCZzUOHhK",
        "outputId": "7394bcb5-a1b1-4ca9-a7b9-a1288043ad2b"
      },
      "execution_count": null,
      "outputs": [
        {
          "output_type": "stream",
          "name": "stdout",
          "text": [
            "R^2: 0.954600024611218\n",
            "MSE: 1.7606679035250463\n"
          ]
        }
      ]
    },
    {
      "cell_type": "markdown",
      "source": [
        "Градиентный бустниг"
      ],
      "metadata": {
        "id": "bOzBo7_EN9lO"
      }
    },
    {
      "cell_type": "code",
      "source": [
        "gbr = GradientBoostingRegressor()\n",
        "gbr.fit(X_train1, y_train1)\n",
        "\n",
        "print_metrics(gbr.predict(X_test1), y_test1)"
      ],
      "metadata": {
        "colab": {
          "base_uri": "https://localhost:8080/"
        },
        "id": "rz7xh8rhODTv",
        "outputId": "bb197e24-d3b2-44cd-802a-268141b89f9b"
      },
      "execution_count": null,
      "outputs": [
        {
          "output_type": "stream",
          "name": "stdout",
          "text": [
            "R^2: 0.8639920813034498\n",
            "MSE: 406847984.63995093\n"
          ]
        }
      ]
    },
    {
      "cell_type": "code",
      "source": [
        "gbr = GradientBoostingClassifier()\n",
        "gbr.fit(X_train2, y_train2)\n",
        "\n",
        "print_metrics(gbr.predict(X_test2), y_test2)"
      ],
      "metadata": {
        "colab": {
          "base_uri": "https://localhost:8080/"
        },
        "id": "G77QfyCYOD9h",
        "outputId": "6a01b9f0-dfb7-49d4-b35c-909232345dec"
      },
      "execution_count": null,
      "outputs": [
        {
          "output_type": "stream",
          "name": "stdout",
          "text": [
            "R^2: 0.8629854800966031\n",
            "MSE: 5.233766233766234\n"
          ]
        }
      ]
    },
    {
      "cell_type": "markdown",
      "source": [
        "В данном случае также все встроенные модели показали результаты лучше, чем линейная и логистическая регрессия. Объясняется это тем, что данные алгоритмы более детально и качественно подходят к решению задачи (например, они используют глубокий анализ)."
      ],
      "metadata": {
        "id": "AQv2XuLGQ_db"
      }
    },
    {
      "cell_type": "markdown",
      "source": [
        "##7.c: Сравнить результаты моделей с результатми из пункта 7.a"
      ],
      "metadata": {
        "id": "nLcPLuab9tW2"
      }
    },
    {
      "cell_type": "markdown",
      "source": [
        "Для задачи регрессии: встроенная модель алгоритма случайного леса работает лучше моей реализации примерно в 1.5 раза. Объясняется это, опять же, тем, что встроенные функции лучше оптимизированны и проработанны, чем пользовательские. Однако, встроенный алгоритм дерева решений показал очень схожие результаты с моей реализацией. Видимо, моя реализация очень хорошо подстроилась под датасет и смогла выдать вполне оптимальный результат.\n",
        "\n",
        "Для задачи классификации: все встроенные модели алгоритмов оказались лучше, чем мои реализации. Объяснение то же, что и для других случаев: улучшенная оптимизация встренных методов. Также пришлось уменьшить параметры для экономии времени, что очень сильно повлияло на итоговые результаты."
      ],
      "metadata": {
        "id": "wP_gehKkfg7t"
      }
    }
  ]
}